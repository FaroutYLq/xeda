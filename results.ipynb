{
 "cells": [
  {
   "cell_type": "code",
   "execution_count": null,
   "id": "1f235843-710a-4ce0-bb08-d333445290c9",
   "metadata": {
    "tags": []
   },
   "outputs": [],
   "source": [
    "from xeda import adv_analysis\n",
    "import numpy as np"
   ]
  },
  {
   "cell_type": "markdown",
   "id": "8dd68ebd-d849-4a33-8fe6-dd3a1149ca5f",
   "metadata": {},
   "source": [
    "# Storage"
   ]
  },
  {
   "cell_type": "code",
   "execution_count": null,
   "id": "5a5fdd9c-1d48-41a9-8901-570f73d2a307",
   "metadata": {
    "tags": []
   },
   "outputs": [],
   "source": [
    "# Load the analysis data sheet. Please modify the path in your case\n",
    "# The dali files are stored in /dali/lgrandi/yuanlq/shared/disk_usage/, and you need to copy to project2 yourself\n",
    "dali = np.load('/project2/lgrandi/yuanlq/shared/disk_usage/dali_lgrandi_output_20230620.npy')\n",
    "project2 = np.load('/project2/lgrandi/yuanlq/shared/disk_usage/project2_lgrandi_output_20230620.npy')\n",
    "db_dali = adv_analysis.make_db(scan_within=\"/dali/lgrandi/\", directory=\"/project2/lgrandi/yuanlq/shared/disk_usage/\")\n",
    "db_project2 = adv_analysis.make_db(scan_within=\"/project2/lgrandi/\", directory=\"/project2/lgrandi/yuanlq/shared/disk_usage/\")"
   ]
  },
  {
   "cell_type": "code",
   "execution_count": null,
   "id": "99f848a2-9d8e-4b4a-b599-7e5ac73ef6ce",
   "metadata": {
    "tags": []
   },
   "outputs": [],
   "source": [
    "# Alarm if some users used significantly more compared to last scan\n",
    "adv_analysis.compare_to_last_time(db_project2, server=\"project2\")"
   ]
  },
  {
   "cell_type": "code",
   "execution_count": null,
   "id": "60493056-6e23-427d-8ea8-acd6f04ef760",
   "metadata": {
    "tags": []
   },
   "outputs": [],
   "source": [
    "# Alarm if some users used significantly more compared to last scan\n",
    "adv_analysis.compare_to_last_time(db_dali, server=\"dali\")"
   ]
  },
  {
   "cell_type": "code",
   "execution_count": null,
   "id": "a25d3d61-1e65-4362-a03f-74fda49656da",
   "metadata": {
    "tags": []
   },
   "outputs": [],
   "source": [
    "# Track server history\n",
    "adv_analysis.track_server_history(db_dali, server='dali', mode='size', show_last_n=45)"
   ]
  },
  {
   "cell_type": "code",
   "execution_count": null,
   "id": "514bef17-5df6-4420-ab49-ee0696d0c96b",
   "metadata": {},
   "outputs": [],
   "source": [
    "# Track server history\n",
    "adv_analysis.track_server_history(db_dali, server='dali', mode='counts', show_last_n=45)"
   ]
  },
  {
   "cell_type": "code",
   "execution_count": null,
   "id": "806fc85f-579c-4b6d-a78c-cfb723b63fb5",
   "metadata": {},
   "outputs": [],
   "source": [
    "# Track server history\n",
    "adv_analysis.track_server_history(db_project2, server='project2', mode='size', show_last_n=45)"
   ]
  },
  {
   "cell_type": "code",
   "execution_count": null,
   "id": "95d3510e-35d8-4d31-b85f-f2945cbeae80",
   "metadata": {
    "tags": []
   },
   "outputs": [],
   "source": [
    "# Scatter in file number VS size space\n",
    "adv_analysis.scatter_usage(df=dali, server='dali')"
   ]
  },
  {
   "cell_type": "code",
   "execution_count": null,
   "id": "d7aef67a-1316-48a4-87a7-35a6cf385b9b",
   "metadata": {
    "tags": []
   },
   "outputs": [],
   "source": [
    "# Scatter in file number VS size space\n",
    "adv_analysis.scatter_usage(df=project2, server='project2')"
   ]
  },
  {
   "cell_type": "code",
   "execution_count": null,
   "id": "ec1dafae-8238-44f0-b918-b83af6128b7a",
   "metadata": {},
   "outputs": [],
   "source": [
    "# Track user history\n",
    "adv_analysis.track_user_history(db_dali, user='rucio', server='dali', mode='size', show_last_n=20)"
   ]
  },
  {
   "cell_type": "code",
   "execution_count": null,
   "id": "64e6c2c9-f53a-453c-b2b5-39253b32f648",
   "metadata": {},
   "outputs": [],
   "source": [
    "importlib.reload(adv_analysis)\n",
    "adv_analysis.track_user_history(db_dali, user='xudc', server='dali', mode='size', show_last_n=20)"
   ]
  },
  {
   "cell_type": "code",
   "execution_count": null,
   "id": "fbf780f6-1233-42c2-a352-d8c7ef856722",
   "metadata": {},
   "outputs": [],
   "source": []
  }
 ],
 "metadata": {
  "kernelspec": {
   "display_name": "Python [conda env:XENONnT_development] *",
   "language": "python",
   "name": "conda-env-XENONnT_development-py"
  },
  "language_info": {
   "codemirror_mode": {
    "name": "ipython",
    "version": 3
   },
   "file_extension": ".py",
   "mimetype": "text/x-python",
   "name": "python",
   "nbconvert_exporter": "python",
   "pygments_lexer": "ipython3",
   "version": "3.9.16"
  }
 },
 "nbformat": 4,
 "nbformat_minor": 5
}
