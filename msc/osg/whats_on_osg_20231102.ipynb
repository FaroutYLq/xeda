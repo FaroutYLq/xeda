{
 "cells": [
  {
   "cell_type": "code",
   "execution_count": null,
   "id": "cc28ccdb-5abe-4ca0-887a-5a8e35a49080",
   "metadata": {},
   "outputs": [],
   "source": [
    "import pandas as pd\n",
    "import matplotlib.pyplot as plt\n",
    "import utilix\n",
    "import numpy as np\n",
    "import os\n",
    "from tqdm import tqdm\n",
    "import gc\n",
    "import pickle\n",
    "from utilix import xent_collection\n",
    "from glob import glob\n",
    "import sys\n",
    "sys.path.append('/home/yuanlq/software/xeda')\n",
    "from xeda import utilities"
   ]
  },
  {
   "cell_type": "code",
   "execution_count": null,
   "id": "e5ecf1e6-ea26-4980-b2be-f8dc62b1b875",
   "metadata": {},
   "outputs": [],
   "source": [
    "coll = xent_collection()\n",
    "sr0_right = 34731\n",
    "sr0_left  = 17918\n",
    "sr1_left  = 43039\n",
    "sr1_right = 53506\n",
    "latest = coll.count_documents({})"
   ]
  },
  {
   "cell_type": "code",
   "execution_count": null,
   "id": "b5d5f85a-9d25-4a3f-b5dd-6607b590bf9b",
   "metadata": {},
   "outputs": [],
   "source": [
    "with open('/project2/lgrandi/xenonnt/reprocessing_runlist/global_v12/runlists_reprocessing_global_v12.pickle', 'rb') as f:\n",
    "    jingqiang12 = pickle.load(f)\n",
    "with open('/project2/lgrandi/xenonnt/reprocessing_runlist/global_v13/runlists_reprocessing_global_v13.pickle', 'rb') as f:\n",
    "    jingqiang13 = pickle.load(f)"
   ]
  },
  {
   "cell_type": "code",
   "execution_count": null,
   "id": "68aed65a-ac01-4369-b356-16677bdfc006",
   "metadata": {},
   "outputs": [],
   "source": [
    "tpc_types = list(set(jingqiang13['runlists'].keys()).union(jingqiang12['runlists'].keys()))\n",
    "nv_types = ['th232', 'sr1_ybe', 'sr1_ambe', 'sr1_bkg', 'sr0_bkg', 'sr0_ambe']"
   ]
  },
  {
   "cell_type": "code",
   "execution_count": null,
   "id": "43b3acf4-5932-4b1c-8872-d1897831855f",
   "metadata": {},
   "outputs": [],
   "source": [
    "v13_tpc_runlist = np.array([])\n",
    "v12_tpc_runlist = np.array([])\n",
    "sr0_nv_runlist = np.array([])\n",
    "sr1_nv_runlist = np.array([])\n",
    "\n",
    "for rnlist in jingqiang13['runlists'].values():\n",
    "    v13_tpc_runlist = np.concatenate((v13_tpc_runlist, rnlist))\n",
    "for rnlist in jingqiang12['runlists'].values():\n",
    "    v12_tpc_runlist = np.concatenate((v12_tpc_runlist, rnlist))\n",
    "for mode in ['sr0_bkg', 'sr0_ambe']:\n",
    "    sr0_nv_runlist = np.concatenate((sr0_nv_runlist, jingqiang12['runlists'][mode]))\n",
    "for mode in ['th232', 'sr1_ybe', 'sr1_ambe', 'sr1_bkg']:\n",
    "    sr1_nv_runlist = np.concatenate((sr1_nv_runlist, jingqiang13['runlists'][mode]))"
   ]
  },
  {
   "cell_type": "code",
   "execution_count": null,
   "id": "398f6445-0b6f-4e82-bab8-6967a8b85fb7",
   "metadata": {},
   "outputs": [],
   "source": [
    "rules_info = utilities.load_rules(datestr=20231102)"
   ]
  },
  {
   "cell_type": "markdown",
   "id": "f37406c0-8407-41e7-aa30-f8aa486c5705",
   "metadata": {},
   "source": [
    "# Everything"
   ]
  },
  {
   "cell_type": "code",
   "execution_count": null,
   "id": "e40f5bbd-cc0c-4ac3-ac4a-2e891a49d147",
   "metadata": {},
   "outputs": [],
   "source": [
    "peaklets = rules_info[rules_info['data_type']=='peaklets']\n",
    "merged_s2s = rules_info[rules_info['data_type']=='merged_s2s']\n",
    "lone_hits = rules_info[rules_info['data_type']=='lone_hits']\n",
    "hitlets_nv = rules_info[rules_info['data_type']=='hitlets_nv']\n",
    "raw_records = rules_info[rules_info['data_type']=='raw_records']\n",
    "raw_records_nv = rules_info[rules_info['data_type']=='raw_records_nv']\n",
    "raw_records_mv = rules_info[rules_info['data_type']=='raw_records_mv']\n",
    "\n",
    "del rules_info\n",
    "gc.collect()"
   ]
  },
  {
   "cell_type": "code",
   "execution_count": null,
   "id": "02cf8942-bca5-4c22-a0c7-e8fd6cda34cb",
   "metadata": {},
   "outputs": [],
   "source": [
    "peaklets = peaklets[peaklets['UC_OSG_USERDISK']]\n",
    "merged_s2s = merged_s2s[merged_s2s['UC_OSG_USERDISK']]\n",
    "lone_hits = lone_hits[lone_hits['UC_OSG_USERDISK']]\n",
    "hitlets_nv = hitlets_nv[hitlets_nv['UC_OSG_USERDISK']]\n",
    "raw_records = raw_records[raw_records['UC_OSG_USERDISK']]\n",
    "raw_records_nv = raw_records_nv[raw_records_nv['UC_OSG_USERDISK']]"
   ]
  },
  {
   "cell_type": "code",
   "execution_count": null,
   "id": "1446223a-0a39-47d1-8f3b-c1050f92ffc4",
   "metadata": {},
   "outputs": [],
   "source": [
    "utilities.plot_cum_sizes_tb(title='UC_OSG_USERDISK at Nov 02 2023', \n",
    "                            x_bins=100, x_range=(0, latest), dpi=150, \n",
    "                            peaklets=peaklets,\n",
    "                            hitlets_nv=hitlets_nv,\n",
    "                            lone_hits=lone_hits,\n",
    "                            merged_s2s=merged_s2s,\n",
    "                            raw_records=raw_records,\n",
    "                            raw_records_nv=raw_records_nv,\n",
    "                            raw_records_mv=raw_records_mv,\n",
    "                           )"
   ]
  },
  {
   "cell_type": "code",
   "execution_count": null,
   "id": "c269f764-12d4-4a58-b533-57d5aaf0b7d7",
   "metadata": {
    "scrolled": true
   },
   "outputs": [],
   "source": [
    "_, _, _ = utilities.check_by_mode(peaklets)\n",
    "_, _, _ = utilities.check_by_mode(merged_s2s)\n",
    "_, _, _ = utilities.check_by_mode(hitlets_nv)\n",
    "_, _, _ = utilities.check_by_mode(lone_hits)\n",
    "_, _, _ = utilities.check_by_mode(raw_records)\n",
    "_, _, _ = utilities.check_by_mode(raw_records_nv)\n",
    "_, _, _ = utilities.check_by_mode(raw_records_mv)"
   ]
  },
  {
   "cell_type": "markdown",
   "id": "7b5647ab-a626-498e-b379-2249f927eb6b",
   "metadata": {},
   "source": [
    "# SR0"
   ]
  },
  {
   "cell_type": "code",
   "execution_count": null,
   "id": "7e6dcb62-5f5e-448b-8f42-78ef14cc919d",
   "metadata": {
    "scrolled": true
   },
   "outputs": [],
   "source": [
    "_, _, _ = utilities.check_by_mode(peaklets[(peaklets['runid'].astype(int)>sr0_left)&(peaklets['runid'].astype(int)<sr0_right)],\n",
    "                                  title='SR0 peaklets on UC_OSG_USERDISK')\n",
    "_, _, _ = utilities.check_by_mode(merged_s2s[(merged_s2s['runid'].astype(int)>sr0_left)&(merged_s2s['runid'].astype(int)<sr0_right)],\n",
    "                                  title='SR0 merged_s2s on UC_OSG_USERDISK')\n",
    "_, _, _ = utilities.check_by_mode(hitlets_nv[(hitlets_nv['runid'].astype(int)>sr0_left)&(hitlets_nv['runid'].astype(int)<sr0_right)],\n",
    "                                  title='SR0 hitlets_nv on UC_OSG_USERDISK')\n",
    "_, _, _ = utilities.check_by_mode(lone_hits[(lone_hits['runid'].astype(int)>sr0_left)&(lone_hits['runid'].astype(int)<sr0_right)],\n",
    "                                  title='SR0 lone_hits on UC_OSG_USERDISK')\n",
    "_, _, _ = utilities.check_by_mode(raw_records[(raw_records['runid'].astype(int)>sr0_left)&(raw_records['runid'].astype(int)<sr0_right)],\n",
    "                                  title='SR0 raw_records on UC_OSG_USERDISK')\n",
    "_, _, _ = utilities.check_by_mode(raw_records_nv[(raw_records_nv['runid'].astype(int)>sr0_left)&(raw_records_nv['runid'].astype(int)<sr0_right)],\n",
    "                                  title='SR0 raw_records_nv on UC_OSG_USERDISK')\n",
    "_, _, _ = utilities.check_by_mode(raw_records_mv[(raw_records_mv['runid'].astype(int)>sr0_left)&(raw_records_mv['runid'].astype(int)<sr0_right)],\n",
    "                                  title='SR0 raw_records_mv on UC_OSG_USERDISK')"
   ]
  },
  {
   "cell_type": "code",
   "execution_count": null,
   "id": "17ce3b87-5548-43b0-ad7b-eb62d5007373",
   "metadata": {},
   "outputs": [],
   "source": [
    "sr0_rr_modes = utilities.get_modes(raw_records[(raw_records['runid'].astype(int)>sr0_left)&(raw_records['runid'].astype(int)<sr0_right)])\n",
    "sr0_rr_nv_modes = utilities.get_modes(raw_records_nv[(raw_records_nv['runid'].astype(int)>sr0_left)&(raw_records_nv['runid'].astype(int)<sr0_right)])"
   ]
  },
  {
   "cell_type": "code",
   "execution_count": null,
   "id": "164addd1-1f77-4671-967d-d97846744f8a",
   "metadata": {},
   "outputs": [],
   "source": [
    "sr0_kr83m_rr = raw_records[(raw_records['runid'].astype(int)>sr0_left)&(raw_records['runid'].astype(int)<sr0_right)][sr0_rr_modes==['tpc_kr83m']]\n",
    "sr0_rn220_rr = raw_records[(raw_records['runid'].astype(int)>sr0_left)&(raw_records['runid'].astype(int)<sr0_right)][(sr0_rr_modes==['tpc_radon'])|(sr0_rr_modes==['tpc_radon_hev'])]\n",
    "sr0_ambe_rr = raw_records[(raw_records['runid'].astype(int)>sr0_left)&(raw_records['runid'].astype(int)<sr0_right)][(sr0_rr_modes==['ambe_linked_hev'])|(sr0_rr_modes==['ambe_link'])]\n",
    "sr0_ar37_rr = raw_records[(raw_records['runid'].astype(int)>sr0_left)&(raw_records['runid'].astype(int)<sr0_right)][sr0_rr_modes==['tpc_ar37']]\n",
    "sr0_nv_selftrigger_rr_nv = raw_records_nv[(raw_records_nv['runid'].astype(int)>sr0_left)&(raw_records_nv['runid'].astype(int)<sr0_right)][sr0_rr_nv_modes==['nVeto_self_trigger']]"
   ]
  },
  {
   "cell_type": "code",
   "execution_count": null,
   "id": "ea92ac94-a5a5-4b8c-9d1a-eec86c8a500d",
   "metadata": {},
   "outputs": [],
   "source": [
    "np.save('/project2/lgrandi/yuanlq/shared/rr_moving/sr0_kr83m_rr_osg_to_sdsc_nsdf_20231102.npy', sr0_kr83m_rr)\n",
    "np.save('/project2/lgrandi/yuanlq/shared/rr_moving/sr0_rn220_rr_osg_to_sdsc_nsdf_20231102.npy', sr0_rn220_rr)\n",
    "np.save('/project2/lgrandi/yuanlq/shared/rr_moving/sr0_ambe_rr_osg_to_sdsc_nsdf_20231102.npy', sr0_ambe_rr)\n",
    "np.save('/project2/lgrandi/yuanlq/shared/rr_moving/sr0_ar37_rr_osg_to_sdsc_nsdf_20231102.npy', sr0_ar37_rr)\n",
    "np.save('/project2/lgrandi/yuanlq/shared/rr_moving/sr0_nv_selftrigger_rr_nv_osg_to_sdsc_nsdf_20231102.npy', sr0_nv_selftrigger_rr_nv)"
   ]
  },
  {
   "cell_type": "markdown",
   "id": "b6291f8c-2db6-41a4-9b78-4c2790ee9924",
   "metadata": {},
   "source": [
    "# Between SR0 and SR1"
   ]
  },
  {
   "cell_type": "code",
   "execution_count": null,
   "id": "413617bf-5da9-4c1e-90af-ec71c0b3a50f",
   "metadata": {
    "scrolled": true
   },
   "outputs": [],
   "source": [
    "_, _, _ = utilities.check_by_mode(raw_records[(raw_records['runid'].astype(int)>sr0_right)&(raw_records['runid'].astype(int)<sr1_left)],\n",
    "                                  title='Between SR0-SR1 raw_records on UC_OSG_USERDISK')\n",
    "_, _, _ = utilities.check_by_mode(raw_records_nv[(raw_records_nv['runid'].astype(int)>sr0_right)&(raw_records_nv['runid'].astype(int)<sr1_left)],\n",
    "                                  title='Between SR0-SR1 raw_records_nv on UC_OSG_USERDISK')\n",
    "_, _, _ = utilities.check_by_mode(raw_records_mv[(raw_records_mv['runid'].astype(int)>sr0_right)&(raw_records_mv['runid'].astype(int)<sr1_left)],\n",
    "                                  title='Between SR0-SR1 raw_records_mv on UC_OSG_USERDISK')"
   ]
  },
  {
   "cell_type": "code",
   "execution_count": null,
   "id": "9ba03501-c6db-4542-acab-7e1a4aa5b733",
   "metadata": {},
   "outputs": [],
   "source": [
    "rr_between_sr0_and_sr1 = raw_records[(raw_records['runid'].astype(int)>sr0_right)&(raw_records['runid'].astype(int)<sr1_left)]\n",
    "rr_nv_between_sr0_and_sr1 = raw_records_nv[(raw_records_nv['runid'].astype(int)>sr0_right)&(raw_records_nv['runid'].astype(int)<sr1_left)]\n",
    "rr_mv_between_sr0_and_sr1 = raw_records_mv[(raw_records_mv['runid'].astype(int)>sr0_right)&(raw_records_mv['runid'].astype(int)<sr1_left)]"
   ]
  },
  {
   "cell_type": "code",
   "execution_count": null,
   "id": "d717acbe-6c7c-411e-a0f0-c0fa1f46affe",
   "metadata": {},
   "outputs": [],
   "source": [
    "np.save('/project2/lgrandi/yuanlq/shared/rr_moving/rr_between_sr0_and_sr1_osg_to_eu_20231102.npy', rr_between_sr0_and_sr1)\n",
    "np.save('/project2/lgrandi/yuanlq/shared/rr_moving/rr_nv_between_sr0_and_sr1_osg_to_eu_20231102.npy', rr_nv_between_sr0_and_sr1)\n",
    "np.save('/project2/lgrandi/yuanlq/shared/rr_moving/rr_mv_between_sr0_and_sr1_osg_to_eu_20231102.npy', rr_mv_between_sr0_and_sr1)"
   ]
  },
  {
   "cell_type": "markdown",
   "id": "109b3118-2908-4245-9724-80e11fadc204",
   "metadata": {},
   "source": [
    "# SR1 runs but not in to-reprocess list"
   ]
  },
  {
   "cell_type": "code",
   "execution_count": null,
   "id": "f5b308bf-e79f-43df-9584-4efd7863a7fb",
   "metadata": {},
   "outputs": [],
   "source": [
    "rr_sr1_not_in_reprocess_list = []\n",
    "for r in raw_records[(raw_records['runid'].astype(int)<sr1_right)&(raw_records['runid'].astype(int)>sr1_left)]:\n",
    "    if not (int(r['runid']) in v13_tpc_runlist or int(r['runid']) in v12_tpc_runlist):\n",
    "        rr_sr1_not_in_reprocess_list.append(r)\n",
    "rr_sr1_not_in_reprocess_list = np.array(rr_sr1_not_in_reprocess_list)\n",
    "\n",
    "rr_sr1_not_in_reprocess_list['size_gb'].sum()/1024"
   ]
  },
  {
   "cell_type": "code",
   "execution_count": null,
   "id": "61f15c60-2b6f-4ec7-991c-28bbad4fb796",
   "metadata": {},
   "outputs": [],
   "source": [
    "rr_nv_sr1_not_in_reprocess_list = []\n",
    "for r in raw_records_nv[(raw_records_nv['runid'].astype(int)<sr1_right)&(raw_records_nv['runid'].astype(int)>sr1_left)]:\n",
    "    if not (int(r['runid']) in sr0_nv_runlist or int(r['runid']) in sr1_nv_runlist):\n",
    "        rr_nv_sr1_not_in_reprocess_list.append(r)\n",
    "rr_nv_sr1_not_in_reprocess_list = np.array(rr_nv_sr1_not_in_reprocess_list)\n",
    "\n",
    "rr_nv_sr1_not_in_reprocess_list['size_gb'].sum()/1024"
   ]
  },
  {
   "cell_type": "code",
   "execution_count": null,
   "id": "7ecb0353-360e-4005-98f5-da02bf82915a",
   "metadata": {
    "scrolled": true
   },
   "outputs": [],
   "source": [
    "_, _, _ = utilities.check_by_mode(rr_sr1_not_in_reprocess_list,\n",
    "                                  title='SR1 outside-reprocess-list raw_records on UC_OSG_USERDISK')\n",
    "_, _, _ = utilities.check_by_mode(rr_nv_sr1_not_in_reprocess_list,\n",
    "                                  title='SR1 outside-reprocess-list raw_records_nv on UC_OSG_USERDISK')"
   ]
  },
  {
   "cell_type": "code",
   "execution_count": null,
   "id": "62fede4d-70b0-48f0-810a-315585acb038",
   "metadata": {},
   "outputs": [],
   "source": [
    "np.save('/project2/lgrandi/yuanlq/shared/rr_moving/rr_nv_sr1_not_in_reprocess_list_osg_to_eu_20231102.npy', rr_nv_sr1_not_in_reprocess_list)\n",
    "np.save('/project2/lgrandi/yuanlq/shared/rr_moving/rr_sr1_not_in_reprocess_list_osg_to_eu_20231102.npy', rr_sr1_not_in_reprocess_list)"
   ]
  },
  {
   "cell_type": "code",
   "execution_count": null,
   "id": "035ddeaa-1239-4810-ad44-3e3e0c6459a7",
   "metadata": {},
   "outputs": [],
   "source": []
  }
 ],
 "metadata": {
  "kernelspec": {
   "display_name": "Python [conda env:XENONnT_development] *",
   "language": "python",
   "name": "conda-env-XENONnT_development-py"
  },
  "language_info": {
   "codemirror_mode": {
    "name": "ipython",
    "version": 3
   },
   "file_extension": ".py",
   "mimetype": "text/x-python",
   "name": "python",
   "nbconvert_exporter": "python",
   "pygments_lexer": "ipython3",
   "version": "3.9.7"
  }
 },
 "nbformat": 4,
 "nbformat_minor": 5
}
