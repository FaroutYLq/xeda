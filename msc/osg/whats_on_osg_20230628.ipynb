{
 "cells": [
  {
   "cell_type": "code",
   "execution_count": null,
   "id": "8f640471-3c48-4a14-aa69-e59f77b686de",
   "metadata": {
    "tags": []
   },
   "outputs": [],
   "source": [
    "import pandas as pd\n",
    "import matplotlib.pyplot as plt\n",
    "import utilix\n",
    "import numpy as np\n",
    "from tqdm import tqdm\n",
    "import os\n",
    "from tqdm import tqdm\n",
    "path_start = '/dali/lgrandi/rucio/xnt_'"
   ]
  },
  {
   "cell_type": "code",
   "execution_count": null,
   "id": "bed5bdaf-bb62-4914-b5c2-74f4d9b71a46",
   "metadata": {
    "tags": []
   },
   "outputs": [],
   "source": [
    "import cutax\n",
    "st = cutax.contexts.xenonnt_online()\n",
    "runs = st.select_runs()\n",
    "modes = set(runs[\"mode\"])"
   ]
  },
  {
   "cell_type": "code",
   "execution_count": null,
   "id": "849be2ef-11b3-47a2-8f35-d49fc2be1619",
   "metadata": {},
   "outputs": [],
   "source": [
    "sr0_right = 34731\n",
    "sr0_left  = 17918\n",
    "sr1_left  = 43039\n",
    "sr1_right = 53000"
   ]
  },
  {
   "cell_type": "code",
   "execution_count": null,
   "id": "f8df0729-a372-472b-a229-096dd5313f25",
   "metadata": {
    "tags": []
   },
   "outputs": [],
   "source": [
    "modes_list = list(modes)"
   ]
  },
  {
   "cell_type": "code",
   "execution_count": null,
   "id": "0b5a970e-49a4-480f-967a-26a5d4d52a59",
   "metadata": {
    "tags": []
   },
   "outputs": [],
   "source": [
    "runs_dtype = np.dtype([('number', np.int32), \n",
    "                       ('mode', 'O'),\n",
    "                       ('bad', np.bool),\n",
    "                       ('messy', np.bool),\n",
    "                       ('hot_spot', np.bool),\n",
    "                       ('ramp_down', np.bool),\n",
    "                       ('ramp_up', np.bool),\n",
    "                       ('pmt_trip', np.bool),\n",
    "                       ('rn220_fast_alphas', np.bool),\n",
    "                       ('after_rn220', np.bool),\n",
    "                       ('abandon', np.bool),\n",
    "                       ('RAD_commissioning', np.bool)])\n",
    "runs = np.zeros(sr1_right, dtype = runs_dtype)"
   ]
  },
  {
   "cell_type": "code",
   "execution_count": null,
   "id": "577ad5f7-5acb-418a-a753-0bb67b6fd150",
   "metadata": {},
   "outputs": [],
   "source": [
    "import pymongo\n",
    "from utilix import xent_collection\n",
    "coll = xent_collection()\n",
    "\n",
    "for i in tqdm(range(sr1_right)):\n",
    "    query = {'number': i}\n",
    "    doc = coll.find_one(query)\n",
    "    runs[i]['number'] = i\n",
    "    runs[i]['mode'] = doc['mode']\n",
    "    try:\n",
    "        tags = doc['tags']\n",
    "        for t in tags:\n",
    "            if t['name'] == 'bad':\n",
    "                runs[i]['bad'] = True\n",
    "            elif t['name'] == 'messy':\n",
    "                runs[i]['messy'] = True\n",
    "            elif t['name'] == 'hot_spot':\n",
    "                runs[i]['hot_spot'] = True\n",
    "            elif t['name'] == 'ramp_down':\n",
    "                runs[i]['ramp_down'] = True\n",
    "            elif t['name'] == 'ramp_up':\n",
    "                runs[i]['ramp_up'] = True            \n",
    "            elif t['name'] == 'pmt_trip':\n",
    "                runs[i]['pmt_trip'] = True\n",
    "            elif t['name'] == 'rn220_fast_alphas':\n",
    "                runs[i]['rn220_fast_alphas'] = True\n",
    "            elif t['name'] == 'after_rn220':\n",
    "                runs[i]['after_rn220'] = True\n",
    "            elif t['name'] == 'abandon':\n",
    "                runs[i]['abandon'] = True\n",
    "            elif t['name'] == 'RAD_commissioning':\n",
    "                runs[i]['RAD_commissioning'] = True\n",
    "    except:\n",
    "        pass"
   ]
  },
  {
   "cell_type": "code",
   "execution_count": null,
   "id": "44b107d1-be40-452e-8aae-f16abf09d218",
   "metadata": {},
   "outputs": [],
   "source": [
    "for i in tqdm(range(20)):\n",
    "    if i == 0:\n",
    "        rules_info = np.load('/project2/lgrandi/yuanlq/shared/dali_cleanup/rucio_20230628_all_rules0.npy', \n",
    "                             allow_pickle=True)\n",
    "    else:\n",
    "        new = np.load('/project2/lgrandi/yuanlq/shared/dali_cleanup/rucio_20230628_all_rules%s.npy'%(i), \n",
    "                      allow_pickle=True)\n",
    "        rules_info = np.concatenate((rules_info, new))"
   ]
  },
  {
   "cell_type": "code",
   "execution_count": null,
   "id": "2dcb4863-9113-4051-8eea-8a22eaacb3a3",
   "metadata": {},
   "outputs": [],
   "source": [
    "rules_info = rules_info[rules_info['UC_OSG_USERDISK']]"
   ]
  },
  {
   "cell_type": "code",
   "execution_count": null,
   "id": "167746d9-91b2-4fc9-99e8-99bb2ff063fc",
   "metadata": {},
   "outputs": [],
   "source": [
    "runids = rules_info['runid'].astype(np.int32)"
   ]
  },
  {
   "cell_type": "code",
   "execution_count": null,
   "id": "93942da1-fc8b-46ef-b7f2-43e1fed8ab89",
   "metadata": {},
   "outputs": [],
   "source": [
    "interested_dtypes = ['raw_records_mv', 'raw_records_nv', 'raw_records_he', 'raw_records', 'records']"
   ]
  },
  {
   "cell_type": "code",
   "execution_count": null,
   "id": "02143fb0-435e-4fc6-b934-2673902b79c8",
   "metadata": {},
   "outputs": [],
   "source": [
    "all_dtypes = np.unique(rules_info['data_type'])\n",
    "names = []\n",
    "sizes_gb = []\n",
    "for dt in all_dtypes:\n",
    "    selected = rules_info[rules_info['data_type']==dt]\n",
    "    names.append(dt)\n",
    "    sizes_gb.append(selected['size_gb'].sum())\n",
    "names = np.array(names)\n",
    "sizes_gb = np.array(sizes_gb)\n",
    "argsort = sizes_gb.argsort()\n",
    "names_sort = names[argsort]\n",
    "sizes_gb_sort = sizes_gb[argsort]\n",
    "for i in range(len(names)):\n",
    "    print(names_sort[i], int(sizes_gb_sort[i]/1024), 'TB')"
   ]
  },
  {
   "cell_type": "code",
   "execution_count": null,
   "id": "eaef3808-734d-4a3c-a84b-415d9a3dec7d",
   "metadata": {},
   "outputs": [],
   "source": [
    "def size_vs_runs(rules, runid_min=0, runid_max=sr1_right, nbins=100):\n",
    "    runids = rules['runid'].astype(np.int32)\n",
    "    bins_bound = np.linspace(runid_min, runid_max, nbins+1)\n",
    "    sizes_tb = np.zeros(nbins)\n",
    "    for b in range(nbins):\n",
    "        selected_mask = runids>=bins_bound[b]\n",
    "        selected_mask &= runids<=bins_bound[b+1]\n",
    "        rules_selected = rules[selected_mask]\n",
    "        if len(rules_selected):\n",
    "            sizes_tb[b] = np.sum(rules_selected['size_gb']/1024)\n",
    "    \n",
    "    cum_sizes_tb = np.cumsum(sizes_tb)\n",
    "    return cum_sizes_tb"
   ]
  },
  {
   "cell_type": "code",
   "execution_count": null,
   "id": "9879a969-90d4-4feb-8643-77f0d88b1c0e",
   "metadata": {},
   "outputs": [],
   "source": [
    "def filter_out_rad(rules, runs):\n",
    "    is_rad = np.zeros(len(rules), np.bool)\n",
    "    for i,r in enumerate(rules):\n",
    "        if runs[int(r['runid'])]['RAD_commissioning']:\n",
    "            is_rad[i] = True\n",
    "    return rules[~is_rad]"
   ]
  },
  {
   "cell_type": "code",
   "execution_count": null,
   "id": "3b9ffd6a-42df-4b03-bf21-26c7374d37d4",
   "metadata": {},
   "outputs": [],
   "source": [
    "def find_with_tags(rules, runs, tags):\n",
    "    tagged = np.zeros(len(rules), np.bool)\n",
    "    for i,r in enumerate(rules):\n",
    "        for t in tags:\n",
    "            if runs[int(r['runid'])][t]:\n",
    "                tagged[i] = True\n",
    "    print(np.sum(tagged))\n",
    "    return rules[tagged]"
   ]
  },
  {
   "cell_type": "code",
   "execution_count": null,
   "id": "1828b900-c231-4e68-970d-0d65d572b3cd",
   "metadata": {},
   "outputs": [],
   "source": [
    "def find_with_mode(rules, runs, mode):\n",
    "    is_mode = np.zeros(len(rules), np.bool)\n",
    "    for i,r in enumerate(rules):\n",
    "        if runs[int(r['runid'])]['mode'] == mode:\n",
    "            is_mode[i] = True\n",
    "    print(np.sum(is_mode))\n",
    "    return rules[is_mode]"
   ]
  },
  {
   "cell_type": "code",
   "execution_count": null,
   "id": "76446e92-7cad-4df9-ac3c-29da5b41170e",
   "metadata": {},
   "outputs": [],
   "source": [
    "cum_sizes_tb_rr = size_vs_runs(rules_info[(rules_info['data_type']=='raw_records')])\n",
    "cum_sizes_tb_rrhe = size_vs_runs(rules_info[rules_info['data_type']=='raw_records_he'])\n",
    "cum_sizes_tb_rrmv = size_vs_runs(rules_info[rules_info['data_type']=='raw_records_mv'])\n",
    "cum_sizes_tb_rrnv = size_vs_runs(rules_info[rules_info['data_type']=='raw_records_nv'])\n",
    "cum_sizes_tb_pkl = size_vs_runs(rules_info[rules_info['data_type']=='peaklets'])\n",
    "cum_sizes_tb_r = size_vs_runs(rules_info[rules_info['data_type']=='records'])"
   ]
  },
  {
   "cell_type": "code",
   "execution_count": null,
   "id": "daf825d5-5e6a-407e-afbb-aaa0b6c92aa4",
   "metadata": {},
   "outputs": [],
   "source": [
    "plt.figure(dpi=100)\n",
    "plt.plot(np.linspace(0, sr1_right, 100), cum_sizes_tb_rr, label='raw_records')\n",
    "plt.plot(np.linspace(0, sr1_right, 100), cum_sizes_tb_rrhe, label='raw_records_he')\n",
    "plt.plot(np.linspace(0, sr1_right, 100), cum_sizes_tb_rrmv, label='raw_records_mv')\n",
    "plt.plot(np.linspace(0, sr1_right, 100), cum_sizes_tb_rrnv, label='raw_records_nv')\n",
    "plt.plot(np.linspace(0, sr1_right, 100), cum_sizes_tb_pkl, label='peaklets')\n",
    "plt.plot(np.linspace(0, sr1_right, 100), cum_sizes_tb_r, label='records')\n",
    "plt.xlabel('RunID')\n",
    "plt.title('OSG Top 6 Datatype')\n",
    "plt.ylabel('Size [TB]')\n",
    "plt.axvspan(sr0_left, sr0_right, alpha=0.3, color='k', label='SR0')\n",
    "plt.axvspan(sr1_left, sr1_right, alpha=0.3, color='r', label='SR1')\n",
    "#plt.yscale('log')\n",
    "plt.gca().set_ylim(bottom=1)\n",
    "plt.legend()"
   ]
  },
  {
   "cell_type": "code",
   "execution_count": null,
   "id": "eb523e6c-b4c2-4493-9f90-48b8fae3ae0b",
   "metadata": {},
   "outputs": [],
   "source": [
    "rules_info_norad = filter_out_rad(rules=rules_info, runs=runs)"
   ]
  },
  {
   "cell_type": "code",
   "execution_count": null,
   "id": "b0951243-ea0e-4ba7-baac-c5a593aeb155",
   "metadata": {},
   "outputs": [],
   "source": [
    "cum_sizes_tb_rr_norad = size_vs_runs(rules_info_norad[(rules_info_norad['data_type']=='raw_records')])\n",
    "cum_sizes_tb_rrhe_norad = size_vs_runs(rules_info_norad[rules_info_norad['data_type']=='raw_records_he'])\n",
    "cum_sizes_tb_rrmv_norad = size_vs_runs(rules_info_norad[rules_info_norad['data_type']=='raw_records_mv'])\n",
    "cum_sizes_tb_rrnv_norad = size_vs_runs(rules_info_norad[rules_info_norad['data_type']=='raw_records_nv'])\n",
    "cum_sizes_tb_pkl_norad = size_vs_runs(rules_info_norad[rules_info_norad['data_type']=='peaklets'])\n",
    "cum_sizes_tb_r_norad = size_vs_runs(rules_info_norad[rules_info_norad['data_type']=='records'])"
   ]
  },
  {
   "cell_type": "code",
   "execution_count": null,
   "id": "6b4cc5e0-0bbc-4314-9fba-7dd2f1ddd940",
   "metadata": {},
   "outputs": [],
   "source": [
    "plt.figure(dpi=100)\n",
    "plt.plot(np.linspace(0, sr1_right, 100), cum_sizes_tb_rr_norad, label='raw_records')\n",
    "plt.plot(np.linspace(0, sr1_right, 100), cum_sizes_tb_rrhe_norad, label='raw_records_he')\n",
    "plt.plot(np.linspace(0, sr1_right, 100), cum_sizes_tb_rrmv_norad, label='raw_records_mv')\n",
    "plt.plot(np.linspace(0, sr1_right, 100), cum_sizes_tb_rrnv_norad, label='raw_records_nv')\n",
    "plt.plot(np.linspace(0, sr1_right, 100), cum_sizes_tb_pkl_norad, label='peaklets')\n",
    "plt.plot(np.linspace(0, sr1_right, 100), cum_sizes_tb_r_norad, label='records')\n",
    "plt.xlabel('RunID')\n",
    "plt.title('OSG Top 6 Datatype (Excluded RAD runs)')\n",
    "plt.ylabel('Size [TB]')\n",
    "plt.axvspan(sr0_left, sr0_right, alpha=0.3, color='k', label='SR0')\n",
    "plt.axvspan(sr1_left, sr1_right, alpha=0.3, color='r', label='SR1')\n",
    "#plt.yscale('log')\n",
    "plt.gca().set_ylim(bottom=1)\n",
    "plt.legend()"
   ]
  },
  {
   "cell_type": "code",
   "execution_count": null,
   "id": "d3ce6d3c-9448-45fe-a0db-0d70fc35a13f",
   "metadata": {},
   "outputs": [],
   "source": [
    "rules_info_lowq = find_with_tags(rules=rules_info, runs=runs, tags=['bad', 'messy', 'abandon'])"
   ]
  },
  {
   "cell_type": "code",
   "execution_count": null,
   "id": "ad1e12e1-1734-4ea8-b2de-4400603a8d8f",
   "metadata": {},
   "outputs": [],
   "source": [
    "cum_sizes_tb_rr_lowq = size_vs_runs(rules_info_lowq[(rules_info_lowq['data_type']=='raw_records')])\n",
    "cum_sizes_tb_rrhe_lowq = size_vs_runs(rules_info_lowq[rules_info_lowq['data_type']=='raw_records_he'])\n",
    "cum_sizes_tb_rrmv_lowq = size_vs_runs(rules_info_lowq[rules_info_lowq['data_type']=='raw_records_mv'])\n",
    "cum_sizes_tb_rrnv_lowq = size_vs_runs(rules_info_lowq[rules_info_lowq['data_type']=='raw_records_nv'])\n",
    "cum_sizes_tb_r_lowq = size_vs_runs(rules_info_lowq[rules_info_lowq['data_type']=='records'])"
   ]
  },
  {
   "cell_type": "code",
   "execution_count": null,
   "id": "5f8b5d93-620c-4208-a19b-36d92e634daa",
   "metadata": {},
   "outputs": [],
   "source": [
    "plt.figure(dpi=100)\n",
    "plt.plot(np.linspace(0, sr1_right, 100), cum_sizes_tb_rr_lowq, label='raw_records')\n",
    "plt.plot(np.linspace(0, sr1_right, 100), cum_sizes_tb_rrhe_lowq, label='raw_records_he')\n",
    "plt.plot(np.linspace(0, sr1_right, 100), cum_sizes_tb_rrmv_lowq, label='raw_records_mv')\n",
    "plt.plot(np.linspace(0, sr1_right, 100), cum_sizes_tb_rrnv_lowq, label='raw_records_nv')\n",
    "plt.plot(np.linspace(0, sr1_right, 100), cum_sizes_tb_r_lowq, label='records')\n",
    "plt.xlabel('RunID')\n",
    "plt.title('Bad or Messy or Abandon Tagged')\n",
    "plt.ylabel('Size [TB]')\n",
    "plt.axvspan(sr0_left, sr0_right, alpha=0.3, color='k', label='SR0')\n",
    "plt.axvspan(sr1_left, sr1_right, alpha=0.3, color='r', label='SR1')\n",
    "#plt.yscale('log')\n",
    "plt.gca().set_ylim(bottom=1)\n",
    "plt.legend()"
   ]
  },
  {
   "cell_type": "code",
   "execution_count": null,
   "id": "a8625275-b138-41bb-bdce-b1316a5f80c4",
   "metadata": {},
   "outputs": [],
   "source": [
    "rules_info_lowq['size_gb'].sum()"
   ]
  },
  {
   "cell_type": "code",
   "execution_count": null,
   "id": "163e972b-52ae-4585-9a63-c397d061237a",
   "metadata": {},
   "outputs": [],
   "source": [
    "np.save('delete_dcache_20230628/low_quality_tagged_raw_records.npy', rules_info_lowq)"
   ]
  },
  {
   "cell_type": "code",
   "execution_count": null,
   "id": "62fdb33c-835d-495c-a3fd-547993f23987",
   "metadata": {},
   "outputs": [],
   "source": [
    "cum_sizes_tb_rr_lowq[-1] + cum_sizes_tb_rrhe_lowq[-1] + cum_sizes_tb_rrmv_lowq[-1] + cum_sizes_tb_rrnv_lowq[-1] + cum_sizes_tb_r_lowq[-1]"
   ]
  },
  {
   "cell_type": "markdown",
   "id": "79b314e6-a31b-478b-9e9b-01f70619bb65",
   "metadata": {},
   "source": [
    "### preSR0"
   ]
  },
  {
   "cell_type": "code",
   "execution_count": null,
   "id": "65eed256-e70f-41c2-a15c-cc124805b0d9",
   "metadata": {},
   "outputs": [],
   "source": [
    "pre_sr0_rules_info = rules_info_norad[rules_info_norad['runid'].astype(int)<sr0_left]"
   ]
  },
  {
   "cell_type": "code",
   "execution_count": null,
   "id": "feff662c-121f-49bc-8074-605b71aec8e7",
   "metadata": {},
   "outputs": [],
   "source": [
    "rules_info_norad['size_gb'].sum()"
   ]
  },
  {
   "cell_type": "code",
   "execution_count": null,
   "id": "c27ecab1-0e53-426b-8102-74386d2e90d2",
   "metadata": {},
   "outputs": [],
   "source": [
    "pre_sr0_rules_info['size_gb'].sum()"
   ]
  },
  {
   "cell_type": "code",
   "execution_count": null,
   "id": "5300c07c-2480-484e-8dc8-f534898e5a48",
   "metadata": {},
   "outputs": [],
   "source": [
    "np.save('delete_dcache_20230628/pre_sr0_rr_no_rad', pre_sr0_rules_info)"
   ]
  },
  {
   "cell_type": "markdown",
   "id": "3156de67-d5b9-4623-a966-963a38dd4c82",
   "metadata": {},
   "source": [
    "### All time"
   ]
  },
  {
   "cell_type": "code",
   "execution_count": null,
   "id": "d2ffa1bf-820f-44bc-9478-2e44cb723712",
   "metadata": {
    "tags": []
   },
   "outputs": [],
   "source": [
    "total_rr = 0\n",
    "total_rrhe = 0\n",
    "total_rrmv = 0\n",
    "total_rrnv = 0\n",
    "total_r = 0\n",
    "\n",
    "size_rr = []\n",
    "size_rrhe = []\n",
    "size_rrmv = []\n",
    "size_rrnv = []\n",
    "size_r = []\n",
    "\n",
    "for m in modes_list:\n",
    "    rules_info_mode = find_with_mode(rules=rules_info_norad, runs=runs, mode=m)\n",
    "    cum_sizes_tb_rr_mode = size_vs_runs(rules_info_mode[(rules_info_mode['data_type']=='raw_records')])\n",
    "    cum_sizes_tb_rrhe_mode = size_vs_runs(rules_info_mode[rules_info_mode['data_type']=='raw_records_he'])\n",
    "    cum_sizes_tb_rrmv_mode = size_vs_runs(rules_info_mode[rules_info_mode['data_type']=='raw_records_mv'])\n",
    "    cum_sizes_tb_rrnv_mode = size_vs_runs(rules_info_mode[rules_info_mode['data_type']=='raw_records_nv'])\n",
    "    cum_sizes_tb_r_mode = size_vs_runs(rules_info_mode[rules_info_mode['data_type']=='records'])\n",
    "\n",
    "    # ybe nv\n",
    "    if m=='ybe_linked':\n",
    "        to_save = rules_info_mode[rules_info_mode['data_type']=='raw_records_nv']\n",
    "        np.save('delete_dcache_20230628/ybe_rr_nv.npy',to_save)\n",
    "    \n",
    "    if m=='tpc_pmtap':\n",
    "        to_save = rules_info_mode[(rules_info_mode['runid'].astype(int)>=sr0_left)&\n",
    "                                  (rules_info_mode['runid'].astype(int)<=sr1_left)]\n",
    "        #to_save = to_save[np.where(np.isin(to_save['runid'], luisa_ap_list, invert=True))]\n",
    "        #np.save('delete_dcache_20230628/pre_sr1_tpc_pmtap_rr.npy',to_save)\n",
    "    if m=='tpc_pmtgain':\n",
    "        to_save = rules_info_mode[(rules_info_mode['runid'].astype(int)>=sr0_left)&\n",
    "                                  (rules_info_mode['runid'].astype(int)<=sr1_left)]\n",
    "        #np.save('delete_dcache_20230628/pre_sr1_tpc_pmtgain_rr.npy',to_save)\n",
    "    if m=='tpc_kr83m':\n",
    "        to_save = rules_info_mode[(rules_info_mode['runid'].astype(int)>=sr0_right)&\n",
    "                                  (rules_info_mode['runid'].astype(int)<=sr1_left)]\n",
    "        #np.save('delete_dcache_20230628/post_sr0_pre_sr1_tpc_kr83m_rr.npy',to_save)\n",
    "    if m=='tpc_kr83m':\n",
    "        to_save = rules_info_mode[(rules_info_mode['runid'].astype(int)>=sr0_left)&\n",
    "                                  (rules_info_mode['runid'].astype(int)<=sr0_right)]\n",
    "        #np.save('delete_dcache_20230628/sr0_tpc_kr83m_rr.npy',to_save)\n",
    "    if m=='tpc_radon':\n",
    "        to_save = rules_info_mode[(rules_info_mode['runid'].astype(int)>=sr0_left)&\n",
    "                                  (rules_info_mode['runid'].astype(int)<=sr0_right)]\n",
    "        #np.save('delete_dcache_20230628/sr0_tpc_radon_rr.npy',to_save)\n",
    "    if m=='tpc_radon_hev':\n",
    "        to_save = rules_info_mode[(rules_info_mode['runid'].astype(int)>=sr0_left)&\n",
    "                                  (rules_info_mode['runid'].astype(int)<=sr0_right)]\n",
    "        #np.save('delete_dcache_20230628/sr0_tpc_radon_hev_rr.npy',to_save)\n",
    "    \n",
    "    total_rr += cum_sizes_tb_rr_mode[-1]\n",
    "    total_rrhe += cum_sizes_tb_rrhe_mode[-1]\n",
    "    total_rrmv += cum_sizes_tb_rrmv_mode[-1]\n",
    "    total_rrnv += cum_sizes_tb_rrnv_mode[-1]\n",
    "    total_r += cum_sizes_tb_r_mode[-1]\n",
    "    \n",
    "    size_rr.append(int(cum_sizes_tb_rr_mode[-1]))\n",
    "    size_rrhe.append(int(cum_sizes_tb_rrhe_mode[-1]))\n",
    "    size_rrmv.append(int(cum_sizes_tb_rrmv_mode[-1]))\n",
    "    size_rrnv.append(int(cum_sizes_tb_rrnv_mode[-1]))\n",
    "    size_r.append(int(cum_sizes_tb_r_mode[-1]))\n",
    "    \n",
    "    if (cum_sizes_tb_rr_mode[-1] + \n",
    "        cum_sizes_tb_rrhe_mode[-1] + \n",
    "        cum_sizes_tb_rrmv_mode[-1] + \n",
    "        cum_sizes_tb_rrnv_mode[-1] +\n",
    "        cum_sizes_tb_r_mode[-1]) > 0:\n",
    "    \n",
    "        plt.figure(dpi=100)\n",
    "        plt.plot(np.linspace(0, sr1_right, 100), cum_sizes_tb_rr_mode, label='raw_records')\n",
    "        plt.plot(np.linspace(0, sr1_right, 100), cum_sizes_tb_rrhe_mode, label='raw_records_he')\n",
    "        plt.plot(np.linspace(0, sr1_right, 100), cum_sizes_tb_rrmv_mode, label='raw_records_mv')\n",
    "        plt.plot(np.linspace(0, sr1_right, 100), cum_sizes_tb_rrnv_mode, label='raw_records_nv')\n",
    "        plt.plot(np.linspace(0, sr1_right, 100), cum_sizes_tb_r_mode, label='records')\n",
    "        plt.xlabel('RunID')\n",
    "        plt.title('Mode %s'%(m))\n",
    "        plt.ylabel('Size [TB]')\n",
    "        plt.axvspan(sr0_left, sr0_right, alpha=0.3, color='k', label='SR0')\n",
    "        plt.axvspan(sr1_left, sr1_right, alpha=0.3, color='r', label='SR1')\n",
    "        #plt.yscale('log')\n",
    "        plt.gca().set_ylim(bottom=0)\n",
    "        plt.legend()\n",
    "        plt.savefig('osg_straxdata_mode_%s'%(m))\n",
    "        plt.show()\n",
    "\n",
    "size_rr = np.array(size_rr)  \n",
    "size_rrhe = np.array(size_rrhe)  \n",
    "size_rrmv = np.array(size_rrmv)  \n",
    "size_rrnv = np.array(size_rrnv)  \n",
    "size_r = np.array(size_r)  "
   ]
  },
  {
   "cell_type": "markdown",
   "id": "4da1209d-eae6-4634-a33a-38e3a61d8bac",
   "metadata": {},
   "source": [
    "## Size by Run Mode"
   ]
  },
  {
   "cell_type": "code",
   "execution_count": null,
   "id": "647f1eff-895c-4d11-bf35-a7ab9bbb555c",
   "metadata": {},
   "outputs": [],
   "source": [
    "modes_list = np.array(modes_list)\n",
    "print('\\n raw_records')\n",
    "for i in range(len(modes_list)):\n",
    "    if size_rr[size_rr.argsort()][i] > 1:\n",
    "        print(modes_list[size_rr.argsort()][i], size_rr[size_rr.argsort()][i], 'TB')\n",
    "    \n",
    "print('\\n raw_records_he')\n",
    "for i in range(len(modes_list)):\n",
    "    if size_rrhe[size_rrhe.argsort()][i] > 1:\n",
    "        print(modes_list[size_rrhe.argsort()][i], size_rrhe[size_rrhe.argsort()][i], 'TB')\n",
    "        \n",
    "print('\\n records')\n",
    "for i in range(len(modes_list)):\n",
    "    if size_r[size_r.argsort()][i] > 1:\n",
    "        print(modes_list[size_r.argsort()][i], size_r[size_r.argsort()][i], 'TB')\n",
    "\n",
    "print('\\n raw_records_nv')\n",
    "for i in range(len(modes_list)):\n",
    "    if size_rrnv[size_rrnv.argsort()][i] > 1:\n",
    "        print(modes_list[size_rrnv.argsort()][i], size_rrnv[size_rrnv.argsort()][i], 'TB')\n",
    "\n",
    "print('\\n raw_records_mv')\n",
    "for i in range(len(modes_list)):\n",
    "    if size_rrmv[size_rrmv.argsort()][i] > 1:\n",
    "        print(modes_list[size_rrmv.argsort()][i], size_rrmv[size_rrmv.argsort()][i], 'TB')"
   ]
  },
  {
   "cell_type": "markdown",
   "id": "61f66df2-3639-44f4-93dc-bf8d330029c8",
   "metadata": {},
   "source": [
    "## Size by Run"
   ]
  },
  {
   "cell_type": "code",
   "execution_count": null,
   "id": "e63e2a7f-cce2-4245-977a-64a6080dc28c",
   "metadata": {},
   "outputs": [],
   "source": [
    "presr0 = rules_info[(rules_info['runid'].astype(int)<sr0_left)]['size_gb'].sum()/1024\n",
    "print('Beofre SR0:', int(presr0), 'TB')\n",
    "sr0 = rules_info[(rules_info['runid'].astype(int)<sr0_right)&(rules_info['runid'].astype(int)>sr0_left)]['size_gb'].sum()/1024\n",
    "print('During SR0:', int(sr0), 'TB')\n",
    "btwn = rules_info[(rules_info['runid'].astype(int)<sr1_left)&(rules_info['runid'].astype(int)>sr0_right)]['size_gb'].sum()/1024\n",
    "print('Between SR0 and SR1:', int(btwn), 'TB')\n",
    "sr1 = rules_info[(rules_info['runid'].astype(int)>sr1_left)]['size_gb'].sum()/1024\n",
    "print('Between SR0 and SR1:', int(sr1), 'TB')"
   ]
  },
  {
   "cell_type": "markdown",
   "id": "69f8af1e-bea8-4349-9988-aed8b92450d6",
   "metadata": {},
   "source": [
    "# To delete"
   ]
  },
  {
   "cell_type": "markdown",
   "id": "3bfe25ad-2dc0-40f4-809b-5f4ef0ff3f46",
   "metadata": {},
   "source": [
    "## Pre-SR0 non RAD"
   ]
  },
  {
   "cell_type": "code",
   "execution_count": null,
   "id": "3ca538be-4009-4d83-8516-3415bdcc3793",
   "metadata": {},
   "outputs": [],
   "source": [
    "pre_sr0_rr_no_rad = np.load('delete_dcache_20230628/pre_sr0_rr_no_rad.npy', allow_pickle=True)"
   ]
  },
  {
   "cell_type": "code",
   "execution_count": null,
   "id": "d0a70380-d459-4fd9-946b-8140bd11982f",
   "metadata": {},
   "outputs": [],
   "source": [
    "ybe_rr_nv['size_gb'].sum()/1024"
   ]
  },
  {
   "cell_type": "markdown",
   "id": "76e8de01-1483-4562-a4eb-519a35ab143c",
   "metadata": {},
   "source": [
    "## Bad Quality"
   ]
  },
  {
   "cell_type": "code",
   "execution_count": null,
   "id": "02592521-a82a-44b2-8df4-e3d1293e2e10",
   "metadata": {},
   "outputs": [],
   "source": [
    "low_quality_tagged_rr = np.load('delete_dcache_20230628/low_quality_tagged_raw_records.npy', allow_pickle=True)"
   ]
  },
  {
   "cell_type": "code",
   "execution_count": null,
   "id": "63cda725-a458-4bbd-9878-5397309c3fa3",
   "metadata": {},
   "outputs": [],
   "source": [
    "low_quality_tagged_rr['size_gb'].sum()/1024"
   ]
  },
  {
   "cell_type": "markdown",
   "id": "1c4d26ea-8787-4b38-9f65-da5937ab94b9",
   "metadata": {},
   "source": [
    "## SR0 NV"
   ]
  },
  {
   "cell_type": "code",
   "execution_count": null,
   "id": "5824f661-b618-4645-ace4-3a1c7a8e0713",
   "metadata": {},
   "outputs": [],
   "source": [
    "sr0_rr_nv = rules_info[((rules_info['data_type']==\"raw_records_nv\")&\n",
    "                        (rules_info['runid'].astype(np.int32)<=sr0_right))]"
   ]
  },
  {
   "cell_type": "code",
   "execution_count": null,
   "id": "a8ecb7df-8e10-43b1-9430-8f4c412c4b05",
   "metadata": {},
   "outputs": [],
   "source": [
    "np.save('delete_dcache_20230628/sr0_rr_nv.npy', sr0_rr_nv)"
   ]
  },
  {
   "cell_type": "code",
   "execution_count": null,
   "id": "ad0b94da-8916-46bb-b9d2-007406e4e031",
   "metadata": {},
   "outputs": [],
   "source": [
    "sr0_rr_nv = np.load('delete_dcache_20230628/sr0_rr_nv.npy', allow_pickle=True)"
   ]
  },
  {
   "cell_type": "code",
   "execution_count": null,
   "id": "20318c20-7581-4980-a810-5d734a31cb28",
   "metadata": {},
   "outputs": [],
   "source": [
    "sr0_rr_nv['size_gb'].sum()/1024"
   ]
  },
  {
   "cell_type": "markdown",
   "id": "b65dfb00-b95d-49e2-857c-788660e5dd99",
   "metadata": {},
   "source": [
    "## SR0 MV"
   ]
  },
  {
   "cell_type": "code",
   "execution_count": null,
   "id": "14411f69-e060-4208-9ed8-18a73c568ff0",
   "metadata": {},
   "outputs": [],
   "source": [
    "sr0_rr_mv = rules_info[((rules_info['data_type']==\"raw_records_mv\")&\n",
    "                        (rules_info['runid'].astype(np.int32)<=sr0_right))]"
   ]
  },
  {
   "cell_type": "code",
   "execution_count": null,
   "id": "64872563-22e8-4d0b-b3fb-1b57fcc3509a",
   "metadata": {},
   "outputs": [],
   "source": [
    "np.save('delete_dcache_20230628/sr0_rr_mv.npy', sr0_rr_mv)"
   ]
  },
  {
   "cell_type": "code",
   "execution_count": null,
   "id": "53ff60c4-af03-49bd-93ea-289a181c2309",
   "metadata": {},
   "outputs": [],
   "source": [
    "sr0_rr_mv = np.load('delete_dcache_20230628/sr0_rr_mv.npy', allow_pickle=True)"
   ]
  },
  {
   "cell_type": "code",
   "execution_count": null,
   "id": "972a0f4b-3792-4c9a-b6e7-b80554562087",
   "metadata": {},
   "outputs": [],
   "source": [
    "sr0_rr_mv['size_gb'].sum()/1024"
   ]
  },
  {
   "cell_type": "markdown",
   "id": "68a797c1-c761-4902-ae9f-6191a9574cb5",
   "metadata": {},
   "source": [
    "## YBe NV"
   ]
  },
  {
   "cell_type": "code",
   "execution_count": null,
   "id": "f35752fc-b491-47a7-b7a9-3bda60328c7c",
   "metadata": {},
   "outputs": [],
   "source": [
    "ybe_rr_nv = np.load('delete_dcache_20230628/ybe_rr_nv.npy', allow_pickle=True)"
   ]
  },
  {
   "cell_type": "code",
   "execution_count": null,
   "id": "5e7c0a4c-b3dc-4620-8cf4-a18280fddc5a",
   "metadata": {},
   "outputs": [],
   "source": [
    "ybe_rr_nv['size_gb'].sum()/1024"
   ]
  },
  {
   "cell_type": "markdown",
   "id": "4f7354a3-64d0-45d4-804f-25296590ec88",
   "metadata": {},
   "source": [
    "## Overall"
   ]
  },
  {
   "cell_type": "code",
   "execution_count": null,
   "id": "fc7c42cf-f6c2-4ba2-89d0-351e6f55bc3c",
   "metadata": {},
   "outputs": [],
   "source": [
    "overall = np.concatenate((pre_sr0_rr_no_rad, low_quality_tagged_rr, sr0_rr_nv, sr0_rr_mv, ybe_rr_nv))"
   ]
  },
  {
   "cell_type": "code",
   "execution_count": null,
   "id": "5af9c270-bf7b-45a6-a370-5f9c297c8fb7",
   "metadata": {},
   "outputs": [],
   "source": [
    "overall = np.unique(overall)"
   ]
  },
  {
   "cell_type": "code",
   "execution_count": null,
   "id": "e568fd6f-4e85-4173-ad90-2547cdf34869",
   "metadata": {},
   "outputs": [],
   "source": [
    "np.sum(overall['size_gb'])/1024"
   ]
  },
  {
   "cell_type": "code",
   "execution_count": null,
   "id": "abe57c0f-9845-416d-bf27-9e68bdf42c4d",
   "metadata": {},
   "outputs": [],
   "source": [
    "np.save('delete_dcache_20230628/osg_20230628.npy', overall)"
   ]
  },
  {
   "cell_type": "markdown",
   "id": "71d11545-db7d-49c8-a8f0-1466269684be",
   "metadata": {},
   "source": [
    "# v11"
   ]
  },
  {
   "cell_type": "code",
   "execution_count": null,
   "id": "27fc80a2-7082-4bfc-ac89-9a81dec83974",
   "metadata": {},
   "outputs": [],
   "source": [
    "import pickle\n",
    "import admix\n",
    "with open('/project2/lgrandi/xenonnt/reprocessing_runlist/global_v11/runlists_reprocessing_global_v11.pickle', 'rb') as f:\n",
    "    jingqiang = pickle.load(f)\n"
   ]
  },
  {
   "cell_type": "code",
   "execution_count": null,
   "id": "5486b7f0-5af2-45a8-9b1a-6b7e9fb90020",
   "metadata": {},
   "outputs": [],
   "source": [
    "jingqiang['runlists'].keys()"
   ]
  },
  {
   "cell_type": "code",
   "execution_count": null,
   "id": "1c7ff2e4-c647-4d7b-a539-27542dc5d7e5",
   "metadata": {},
   "outputs": [],
   "source": [
    "for i in tqdm(range(20)):\n",
    "    if i == 0:\n",
    "        all_rules = np.load('/project2/lgrandi/yuanlq/shared/dali_cleanup/rucio_20230628_all_rules0.npy', \n",
    "                             allow_pickle=True)\n",
    "    else:\n",
    "        new = np.load('/project2/lgrandi/yuanlq/shared/dali_cleanup/rucio_20230628_all_rules%s.npy'%(i), \n",
    "                      allow_pickle=True)\n",
    "        all_rules = np.concatenate((rules_info, new))"
   ]
  },
  {
   "cell_type": "code",
   "execution_count": null,
   "id": "d0b7a85a-5f5e-4916-bbbf-65eadca3a11f",
   "metadata": {},
   "outputs": [],
   "source": [
    "from utilix import xent_collection\n",
    "rundb = xent_collection()"
   ]
  },
  {
   "cell_type": "code",
   "execution_count": null,
   "id": "bc97cfac-0bd5-4f20-8395-190633dff090",
   "metadata": {},
   "outputs": [],
   "source": [
    "all_rules = all_rules[(all_rules['data_type']=='raw_records')]"
   ]
  },
  {
   "cell_type": "code",
   "execution_count": null,
   "id": "6daf1e69-a40c-466f-b177-cb98543399b7",
   "metadata": {},
   "outputs": [],
   "source": [
    "sizes_gb = []\n",
    "missing_runs = []\n",
    "total_runs = []\n",
    "for runtype in jingqiang['runlists'].keys():\n",
    "    missing_run = 0\n",
    "    print(runtype)\n",
    "    runlist = jingqiang['runlists'][runtype]\n",
    "    total_runs.append(len(runlist))\n",
    "    size_gb = 0\n",
    "    for run in tqdm(runlist):\n",
    "        found = False\n",
    "        runid = str(run).zfill(6)\n",
    "        try:\n",
    "            size_gb += all_rules[all_rules['runid']==runid][0]['size_gb']\n",
    "            found = True\n",
    "        except:\n",
    "            run = int(run)\n",
    "            query = {\"number\": run}\n",
    "            doc = rundb.find_one(query)\n",
    "            for d in doc['data']:\n",
    "                if d['type'] == 'raw_records':\n",
    "                    try:\n",
    "                        size_gb += d['size_mb']\n",
    "                        found = True\n",
    "                        break\n",
    "                    except:\n",
    "                        pass\n",
    "            if not found:\n",
    "                missing_run += 1\n",
    "    missing_runs.append(missing_run)\n",
    "    sizes_gb.append(size_gb)\n"
   ]
  },
  {
   "cell_type": "code",
   "execution_count": null,
   "id": "64ddfb0b-14e3-4fcc-b142-62207aa0a2c6",
   "metadata": {},
   "outputs": [],
   "source": [
    "sizes_gb = np.array(sizes_gb)\n",
    "missing_runs = np.array(missing_runs)\n",
    "total_runs = np.array(total_runs)"
   ]
  },
  {
   "cell_type": "code",
   "execution_count": null,
   "id": "f336bdfa-c817-4a1d-9bf6-c29f89730b0a",
   "metadata": {},
   "outputs": [],
   "source": [
    "estimated_size_tb = sizes_gb/1024* total_runs/(total_runs-missing_runs)"
   ]
  },
  {
   "cell_type": "code",
   "execution_count": null,
   "id": "b0b7e3a9-2960-4819-bf96-8a2b65c309fa",
   "metadata": {},
   "outputs": [],
   "source": [
    "estimated_size_tb.sum()"
   ]
  },
  {
   "cell_type": "code",
   "execution_count": null,
   "id": "a2307203-7f1f-427b-8fe9-85d6ef5ece33",
   "metadata": {},
   "outputs": [],
   "source": [
    "3/(0.75*(89+32)/500)"
   ]
  },
  {
   "cell_type": "code",
   "execution_count": null,
   "id": "00ac8803-d7fc-44a8-97e2-6a1348ac48da",
   "metadata": {},
   "outputs": [],
   "source": []
  }
 ],
 "metadata": {
  "kernelspec": {
   "display_name": "Python [conda env:XENONnT_development] *",
   "language": "python",
   "name": "conda-env-XENONnT_development-py"
  },
  "language_info": {
   "codemirror_mode": {
    "name": "ipython",
    "version": 3
   },
   "file_extension": ".py",
   "mimetype": "text/x-python",
   "name": "python",
   "nbconvert_exporter": "python",
   "pygments_lexer": "ipython3",
   "version": "3.9.16"
  }
 },
 "nbformat": 4,
 "nbformat_minor": 5
}
