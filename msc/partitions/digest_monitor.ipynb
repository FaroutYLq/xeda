{
 "cells": [
  {
   "cell_type": "code",
   "execution_count": null,
   "id": "2f4cfa5c-e2e1-4a85-b6b8-f54561c186f8",
   "metadata": {},
   "outputs": [],
   "source": [
    "from glob import glob\n",
    "import numpy as np\n",
    "from tqdm import tqdm\n",
    "from datetime import datetime\n",
    "import matplotlib.pyplot as plt"
   ]
  },
  {
   "cell_type": "code",
   "execution_count": null,
   "id": "4e037070-32b4-458b-836b-4cbdf831c181",
   "metadata": {},
   "outputs": [],
   "source": [
    "squeue_files_all = glob('/project/lgrandi/yuanlq/shared/squeue_lgrandi_monitor_*.txt')\n",
    "nodestatus_files_all = glob('/project/lgrandi/yuanlq/shared/nodestatus_lgrandi_monitor_*.txt')"
   ]
  },
  {
   "cell_type": "code",
   "execution_count": null,
   "id": "cec0b58b-a0dc-4c77-bb24-77caa3883c25",
   "metadata": {
    "scrolled": true
   },
   "outputs": [],
   "source": [
    "date_format = \"%Y-%m-%d_%H-%M-%S\"\n",
    "date_times_squeue_files_all = []\n",
    "notebook_jobs = []\n",
    "batch_jobs = []\n",
    "user_counts = []\n",
    "for i in tqdm(range(len(squeue_files_all))):\n",
    "    date_string = squeue_files_all[i].split('/')[-1].split('.')[0].split('squeue_lgrandi_monitor_')[-1]\n",
    "    date_times_squeue_files_all.append(datetime.strptime(date_string, date_format))\n",
    "    users = []\n",
    "    notebooks = 0\n",
    "    batches = 0\n",
    "    with open(squeue_files_all[i]) as f:\n",
    "        lines = f.readlines()\n",
    "        for line in lines[1:]:\n",
    "            line_list = line.split(' ')\n",
    "            line_list = np.array(line_list)\n",
    "            line_list = line_list[line_list!='']\n",
    "            \n",
    "            is_notebook = line_list[2]=='straxlab'\n",
    "            if is_notebook:\n",
    "                notebooks += 1\n",
    "            else:\n",
    "                batches += 1\n",
    "                \n",
    "            user = line_list[3]\n",
    "            users.append(user)\n",
    "    user_counts.append(len(np.unique(np.array(users))))\n",
    "    batch_jobs.append(batches)\n",
    "    notebook_jobs.append(notebooks)\n",
    "\n",
    "date_times_squeue_files_all = np.array(date_times_squeue_files_all)\n",
    "notebook_jobs = np.array(notebook_jobs)\n",
    "batch_jobs = np.array(batch_jobs)\n",
    "user_counts = np.array(user_counts)\n",
    "\n",
    "notebook_jobs = notebook_jobs[np.argsort(date_times_squeue_files_all)]\n",
    "batch_jobs = batch_jobs[np.argsort(date_times_squeue_files_all)]\n",
    "user_counts = user_counts[np.argsort(date_times_squeue_files_all)]\n",
    "date_times_squeue_files_all = np.sort(date_times_squeue_files_all)"
   ]
  },
  {
   "cell_type": "code",
   "execution_count": null,
   "id": "c8de4697-7381-4cc4-b128-7c71a322e0c3",
   "metadata": {},
   "outputs": [],
   "source": [
    "date_times_nodestatus_files_all = []\n",
    "cpus_used = []\n",
    "rams_used = []\n",
    "for i in tqdm(range(len(nodestatus_files_all))):\n",
    "    date_string = nodestatus_files_all[i].split('/')[-1].split('.')[0].split('nodestatus_lgrandi_monitor_')[-1]\n",
    "    date_times_nodestatus_files_all.append(datetime.strptime(date_string, date_format))\n",
    "    cpus = 0\n",
    "    rams = 0\n",
    "    with open(nodestatus_files_all[i]) as f:\n",
    "        lines = f.readlines()\n",
    "        for line in lines[5:]:\n",
    "            line_list = line.split(' ')\n",
    "            line_list = np.array(line_list)\n",
    "            line_list = line_list[line_list!='']\n",
    "            \n",
    "            cpus += eval(line_list[5])\n",
    "            rams += eval(line_list[7][:-2])\n",
    "                \n",
    "    cpus_used.append(cpus)\n",
    "    rams_used.append(rams)\n",
    "\n",
    "date_times_squeue_files_all = np.array(date_times_squeue_files_all)\n",
    "cpus_used = np.array(cpus_used)\n",
    "rams_used = np.array(rams_used)\n",
    "\n",
    "cpus_used = cpus_used[np.argsort(date_times_squeue_files_all)]\n",
    "rams_used = rams_used[np.argsort(date_times_squeue_files_all)]\n",
    "date_times_squeue_files_all = np.sort(date_times_squeue_files_all)"
   ]
  },
  {
   "cell_type": "code",
   "execution_count": null,
   "id": "cd430e25-40ae-44e3-801b-f003710b92de",
   "metadata": {},
   "outputs": [],
   "source": [
    "fig, ax1 = plt.subplots(dpi=300)\n",
    "ax1.set_title('Midway3 Partition lgrandi Monitoring')\n",
    "ax1.set_xlabel('Time')\n",
    "ax1.tick_params(axis='x', rotation=45)  # Rotate the x-axis labels by 45 degrees\n",
    "\n",
    "color = 'tab:red'\n",
    "ax1.set_ylabel('Resource Usage Percentile', color=color)\n",
    "ax1.plot(date_times_squeue_files_all, cpus_used/256, color=color, alpha=0.5, label='CPUs')\n",
    "ax1.plot(date_times_squeue_files_all, rams_used/1500, color=color, alpha=0.2, label='Memory')\n",
    "ax1.tick_params(axis='y', labelcolor=color)\n",
    "ax1.legend(loc='upper left')\n",
    "\n",
    "ax2 = ax1.twinx()  # instantiate a second axes that shares the same x-axis\n",
    "\n",
    "color = 'tab:blue'\n",
    "ax2.set_ylabel('Concurrent Users', color=color)  # we already handled the x-label with ax1\n",
    "ax2.plot(date_times_squeue_files_all, user_counts, color=color)\n",
    "ax2.tick_params(axis='y', labelcolor=color)\n"
   ]
  },
  {
   "cell_type": "code",
   "execution_count": null,
   "id": "452d3ddf-4ac2-4497-b6b6-9b2324dc545a",
   "metadata": {},
   "outputs": [],
   "source": []
  }
 ],
 "metadata": {
  "kernelspec": {
   "display_name": "Python 3 (ipykernel)",
   "language": "python",
   "name": "python3"
  },
  "language_info": {
   "codemirror_mode": {
    "name": "ipython",
    "version": 3
   },
   "file_extension": ".py",
   "mimetype": "text/x-python",
   "name": "python",
   "nbconvert_exporter": "python",
   "pygments_lexer": "ipython3",
   "version": "3.9.18"
  }
 },
 "nbformat": 4,
 "nbformat_minor": 5
}
