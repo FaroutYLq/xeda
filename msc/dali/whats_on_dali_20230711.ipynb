{
 "cells": [
  {
   "cell_type": "code",
   "execution_count": null,
   "id": "21379e0e-6f9a-4bc8-a462-8bf8151934a0",
   "metadata": {},
   "outputs": [],
   "source": [
    "import pandas as pd\n",
    "import matplotlib.pyplot as plt\n",
    "import utilix\n",
    "import numpy as np\n",
    "from tqdm import tqdm\n",
    "import os\n",
    "from tqdm import tqdm\n",
    "path_start = '/dali/lgrandi/rucio/xnt_'\n",
    "import gc\n",
    "import pickle\n",
    "from utilix import xent_collection\n",
    "from glob import glob\n",
    "import sys\n",
    "sys.path.append('/home/yuanlq/software/xeda')\n",
    "from xeda import utilities"
   ]
  },
  {
   "cell_type": "code",
   "execution_count": null,
   "id": "f991a72e-c52b-4ba5-b8e7-203d8cbc20dc",
   "metadata": {},
   "outputs": [],
   "source": [
    "coll = xent_collection()\n",
    "sr0_right = 34731\n",
    "sr0_left  = 17918\n",
    "sr1_left  = 43039\n",
    "sr1_right = coll.count_documents({})"
   ]
  },
  {
   "cell_type": "code",
   "execution_count": null,
   "id": "9ac989af-c378-4a1e-9faa-6773a2db2979",
   "metadata": {},
   "outputs": [],
   "source": [
    "with open('/project2/lgrandi/xenonnt/reprocessing_runlist/global_v11/runlists_reprocessing_global_v11.pickle', 'rb') as f:\n",
    "    jingqiang = pickle.load(f)"
   ]
  },
  {
   "cell_type": "code",
   "execution_count": null,
   "id": "e41f33b0-5f03-46ed-b8dc-38b15c64a89c",
   "metadata": {},
   "outputs": [],
   "source": [
    "tpc_runlist = np.array([])\n",
    "nv_runlist = np.array([])\n",
    "\n",
    "for rnlist in jingqiang['runlists'].values():\n",
    "    tpc_runlist = np.concatenate((tpc_runlist, rnlist))\n",
    "for mode in ['th232', 'sr1_ybe', 'sr1_ambe', 'sr1_bkg']:\n",
    "    nv_runlist = np.concatenate((nv_runlist, jingqiang['runlists'][mode]))"
   ]
  },
  {
   "cell_type": "code",
   "execution_count": null,
   "id": "3f39eb9f-41c6-4a66-9a11-060bd59aae59",
   "metadata": {},
   "outputs": [],
   "source": [
    "rules_info = utilities.load_rules(datestr=20230711)"
   ]
  },
  {
   "cell_type": "markdown",
   "id": "8696d705-a719-44a0-bc9e-21daafd8ae1d",
   "metadata": {},
   "source": [
    "# Everything"
   ]
  },
  {
   "cell_type": "code",
   "execution_count": null,
   "id": "8a2a822c-d4c5-4e06-b715-27e15d49000e",
   "metadata": {},
   "outputs": [],
   "source": [
    "peaklets = rules_info[rules_info['data_type']=='peaklets']\n",
    "merged_s2s = rules_info[rules_info['data_type']=='merged_s2s']\n",
    "lone_hits = rules_info[rules_info['data_type']=='lone_hits']\n",
    "hitlets_nv = rules_info[rules_info['data_type']=='hitlets_nv']\n",
    "del rules_info\n",
    "gc.collect()"
   ]
  },
  {
   "cell_type": "code",
   "execution_count": null,
   "id": "d646c02a-b3f3-4490-b49f-aaeba0414ae3",
   "metadata": {},
   "outputs": [],
   "source": [
    "peaklets = peaklets[peaklets['UC_DALI_USERDISK']]\n",
    "merged_s2s = merged_s2s[merged_s2s['UC_DALI_USERDISK']]\n",
    "lone_hits = lone_hits[lone_hits['UC_DALI_USERDISK']]\n",
    "hitlets_nv = hitlets_nv[hitlets_nv['UC_DALI_USERDISK']]"
   ]
  },
  {
   "cell_type": "code",
   "execution_count": null,
   "id": "07a1623b-b07c-4e97-9bc9-cdac1e48ec16",
   "metadata": {},
   "outputs": [],
   "source": [
    "utilities.plot_cum_sizes_tb(title='Peaks on DaLI', x_bins=100, x_range=(0, sr1_right), dpi=100, \n",
    "                            peaklets=peaklets,\n",
    "                            hitlets_nv=hitlets_nv,\n",
    "                            lone_hits=lone_hits,\n",
    "                            merged_s2s=merged_s2s)"
   ]
  },
  {
   "cell_type": "code",
   "execution_count": null,
   "id": "7f960226-359c-4dcb-92dd-5a6cef02d01a",
   "metadata": {},
   "outputs": [],
   "source": [
    "_, _, _ = utilities.check_by_mode(peaklets)\n",
    "_, _, _ = utilities.check_by_mode(merged_s2s)\n",
    "_, _, _ = utilities.check_by_mode(hitlets_nv)\n",
    "_, _, _ = utilities.check_by_mode(lone_hits)"
   ]
  },
  {
   "cell_type": "markdown",
   "id": "9a338834-0eee-47e1-9340-7b194894fc30",
   "metadata": {},
   "source": [
    "# v11"
   ]
  },
  {
   "cell_type": "code",
   "execution_count": null,
   "id": "d92f46ae-2c54-425e-992a-4f7ece802768",
   "metadata": {},
   "outputs": [],
   "source": [
    "peaklets_v11 = utilities.in_runlist(peaklets, tpc_runlist)\n",
    "merged_s2s_v11 = utilities.in_runlist(merged_s2s, tpc_runlist)\n",
    "lone_hits_v11 = utilities.in_runlist(lone_hits, tpc_runlist)\n",
    "hitlets_nv_v11 = utilities.in_runlist(hitlets_nv, nv_runlist)"
   ]
  },
  {
   "cell_type": "code",
   "execution_count": null,
   "id": "23c35d87-9952-44dd-a44a-6c2cfc34c62a",
   "metadata": {},
   "outputs": [],
   "source": [
    "utilities.plot_cum_sizes_tb(title='Peaks on DaLI', x_bins=100, x_range=(0, sr1_right), dpi=100, \n",
    "                            peaklets=peaklets,\n",
    "                            merged_s2s=merged_s2s,\n",
    "                            lone_hits=lone_hits,\n",
    "                            hitlets_nv=hitlets_nv,\n",
    "                            peaklets_v11=peaklets_v11,\n",
    "                            merged_s2s_v11=merged_s2s_v11,\n",
    "                            lone_hits_v11=lone_hits_v11,\n",
    "                            hitlets_nv_v11=hitlets_nv_v11)"
   ]
  },
  {
   "cell_type": "markdown",
   "id": "5ec912f6-b74a-4a16-8bb2-37d82920605d",
   "metadata": {},
   "source": [
    "# Rules NOT in v11"
   ]
  },
  {
   "cell_type": "code",
   "execution_count": null,
   "id": "cebfc0fe-bc44-4022-a4e3-95daf80eb618",
   "metadata": {},
   "outputs": [],
   "source": [
    "peaklets_diff = np.setdiff1d(peaklets, peaklets_v11)\n",
    "merged_s2s_diff = np.setdiff1d(merged_s2s, merged_s2s_v11)\n",
    "lone_hits_diff = np.setdiff1d(lone_hits, lone_hits_v11)\n",
    "hitlets_nv_diff = np.setdiff1d(hitlets_nv, hitlets_nv_v11)"
   ]
  },
  {
   "cell_type": "markdown",
   "id": "65e2579f-dbe8-4082-9569-c0deb4f39952",
   "metadata": {},
   "source": [
    "As Jingqiang said, we want to keep those online data who have no valid gain correction yet:"
   ]
  },
  {
   "cell_type": "code",
   "execution_count": null,
   "id": "c1768919-a1db-4b35-86a8-deb758ddde1a",
   "metadata": {},
   "outputs": [],
   "source": [
    "peaklets_diff = peaklets_diff[peaklets_diff['runid'].astype(int)<52059]\n",
    "merged_s2s_diff = merged_s2s_diff[merged_s2s_diff['runid'].astype(int)<52059]\n",
    "lone_hits_diff = lone_hits_diff[lone_hits_diff['runid'].astype(int)<52059]\n",
    "hitlets_nv_diff = hitlets_nv_diff[hitlets_nv_diff['runid'].astype(int)<52059]"
   ]
  },
  {
   "cell_type": "markdown",
   "id": "89992d8f-d5c9-44db-9dd4-dc1df59388a7",
   "metadata": {},
   "source": [
    "We want to do make sure the RAD_COMMISSIONING peak-level data are kept, and no SR0 hitlets_nv will be deleted (because v11 doesn't reprocess SR0 NV)."
   ]
  },
  {
   "cell_type": "code",
   "execution_count": null,
   "id": "2ca3dfe1-6f65-47fb-882f-359b9d38d5e5",
   "metadata": {},
   "outputs": [],
   "source": [
    "peaklets_diff = utilities.filter_out_rad(peaklets_diff)\n",
    "lone_hits_diff = utilities.filter_out_rad(lone_hits_diff)\n",
    "hitlets_nv_diff = hitlets_nv_diff[hitlets_nv_diff['runid'].astype(int)>sr1_left]"
   ]
  },
  {
   "cell_type": "code",
   "execution_count": null,
   "id": "1c5f776c-b83a-42e9-8821-c72b49606b01",
   "metadata": {},
   "outputs": [],
   "source": [
    "# SR1 hitlets_nv not in v11 reprocessing list\n",
    "# https://xenonnt.slack.com/archives/C017UQVTUSE/p1689115466238519\n",
    "np.save('/project2/lgrandi/yuanlq/shared/dali_cleanup/20230710/sr1_dali_hitlets_nv_not_v11list.npy', \n",
    "        hitlets_nv_diff)\n",
    "\n",
    "# Since SR0 peaklets/merged_s2s not in v11 reprocessing list\n",
    "np.save('/project2/lgrandi/yuanlq/shared/dali_cleanup/20230710/since_sr0_dali_peaklets_not_v11list.npy', \n",
    "        peaklets_diff)\n",
    "np.save('/project2/lgrandi/yuanlq/shared/dali_cleanup/20230710/since_sr0_dali_merged_s2s_not_v11list.npy', \n",
    "        merged_s2s_diff)\n",
    "\n",
    "# All lonehits not in v11 reprocessing list\n",
    "np.save('/project2/lgrandi/yuanlq/shared/dali_cleanup/20230710/all_lonehits_not_v11list.npy', \n",
    "        lone_hits_diff)"
   ]
  },
  {
   "cell_type": "code",
   "execution_count": null,
   "id": "0ebfadce-005b-4341-b6d4-458c3048556c",
   "metadata": {},
   "outputs": [],
   "source": [
    "utilities.plot_cum_sizes_tb(title='Peak-Level on DaLI but runs NOT in v11 processing list', \n",
    "                            x_bins=100, x_range=(0, sr1_right), dpi=100, \n",
    "                            peaklets_diff=peaklets_diff,\n",
    "                            merged_s2s_diff=merged_s2s_diff,\n",
    "                            lone_hits_diff=lone_hits_diff,\n",
    "                            hitlets_nv_diff=hitlets_nv_diff)"
   ]
  },
  {
   "cell_type": "markdown",
   "id": "fc558f0d-5763-4ae1-9949-a6d13ae69525",
   "metadata": {},
   "source": [
    "What are the run modes for them?"
   ]
  },
  {
   "cell_type": "code",
   "execution_count": null,
   "id": "9f0a5bc3-bff0-4f48-8c9d-8da5fb4a77c4",
   "metadata": {
    "scrolled": true
   },
   "outputs": [],
   "source": [
    "peaklets_diff_unique_modes, peaklets_diff_sizes_tb,_ = utilities.check_by_mode(peaklets_diff, \n",
    "                                                                            title='peaklets on DaLI but runs NOT in v11 processing list')\n",
    "merged_s2s_unique_modes, merged_s2s_diff_sizes_tb,_ = utilities.check_by_mode(merged_s2s_diff, \n",
    "                                                                            title='merged_s2s on DaLI but runs NOT in v11 processing list')\n",
    "lone_hits_diff_unique_modes, lone_hits_diff_sizes_tb,_ = utilities.check_by_mode(lone_hits_diff, \n",
    "                                                                            title='lone_hits on DaLI but runs NOT in v11 processing list')\n",
    "hitlets_nv_unique_modes, hitlets_nv_diff_sizes_tb,_ = utilities.check_by_mode(hitlets_nv_diff, \n",
    "                                                                            title='hitlets_nv on DaLI but runs NOT in v11 processing list')"
   ]
  },
  {
   "cell_type": "markdown",
   "id": "1f331cd9-72d1-4a20-b19d-6fdaa5364839",
   "metadata": {},
   "source": [
    "# All Peaks in v11 TPC list & All hitlets_nv in v11 NV list"
   ]
  },
  {
   "cell_type": "code",
   "execution_count": null,
   "id": "16716e66-9d5b-4c92-9f3d-afaa2e5c18b9",
   "metadata": {},
   "outputs": [],
   "source": [
    "# All peaklets in v11 processing list on dali\n",
    "np.save('/project2/lgrandi/yuanlq/shared/dali_cleanup/20230710/peaklets_v11.npy', peaklets_v11)\n",
    "\n",
    "# All merged_s2s in v11 processing list on dali\n",
    "np.save('/project2/lgrandi/yuanlq/shared/dali_cleanup/20230710/merged_s2s_v11.npy', merged_s2s_v11)\n",
    "\n",
    "# All lone_hits in v11 processing list on dali\n",
    "np.save('/project2/lgrandi/yuanlq/shared/dali_cleanup/20230710/lone_hits_v11.npy', lone_hits_v11)\n",
    "\n",
    "# All SR1 hitlets_nv in v11 processing list on dali\n",
    "np.save('/project2/lgrandi/yuanlq/shared/dali_cleanup/20230710/hitlets_nv_v11.npy', hitlets_nv_v11)\n"
   ]
  },
  {
   "cell_type": "code",
   "execution_count": null,
   "id": "48f49c82-aba0-4a89-87c4-424c1d1afd85",
   "metadata": {},
   "outputs": [],
   "source": [
    "_,_,_= utilities.check_by_mode(peaklets_v11, \n",
    "                               title='peaklets on DaLI and runs in v11 processing list')\n",
    "_,_,_= utilities.check_by_mode(merged_s2s_v11, \n",
    "                               title='merged_s2s on DaLI and runs in v11 processing list')\n",
    "_,_,_= utilities.check_by_mode(hitlets_nv_v11, \n",
    "                               title='hitlets_nv on DaLI and runs in v11 processing list')\n",
    "_,_,_= utilities.check_by_mode(lone_hits_v11, \n",
    "                               title='lone_hits on DaLI and runs in v11 processing list')"
   ]
  },
  {
   "cell_type": "code",
   "execution_count": null,
   "id": "aef5470c-bf94-423f-b160-040d3d7b27d2",
   "metadata": {},
   "outputs": [],
   "source": [
    "utilities.plot_cum_sizes_tb(title='Peak-Level on DaLI and runs in v11 processing list', \n",
    "                            x_bins=100, x_range=(0, sr1_right), dpi=100, \n",
    "                            peaklets_v11=peaklets_v11,\n",
    "                            merged_s2s_v11=merged_s2s_v11,\n",
    "                            lone_hits_v11=lone_hits_v11,\n",
    "                            hitlets_nv_v11=hitlets_nv_v11)"
   ]
  },
  {
   "cell_type": "code",
   "execution_count": null,
   "id": "21cd592b-35cc-43fc-9d2c-71bc23242019",
   "metadata": {},
   "outputs": [],
   "source": []
  }
 ],
 "metadata": {
  "kernelspec": {
   "display_name": "Python 3 (ipykernel)",
   "language": "python",
   "name": "python3"
  },
  "language_info": {
   "codemirror_mode": {
    "name": "ipython",
    "version": 3
   },
   "file_extension": ".py",
   "mimetype": "text/x-python",
   "name": "python",
   "nbconvert_exporter": "python",
   "pygments_lexer": "ipython3",
   "version": "3.9.17"
  }
 },
 "nbformat": 4,
 "nbformat_minor": 5
}
