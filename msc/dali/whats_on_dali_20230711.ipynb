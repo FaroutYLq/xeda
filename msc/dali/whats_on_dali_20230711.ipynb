{
 "cells": [
  {
   "cell_type": "code",
   "execution_count": null,
   "id": "21379e0e-6f9a-4bc8-a462-8bf8151934a0",
   "metadata": {},
   "outputs": [],
   "source": [
    "import pandas as pd\n",
    "import matplotlib.pyplot as plt\n",
    "import utilix\n",
    "import numpy as np\n",
    "from tqdm import tqdm\n",
    "import os\n",
    "from tqdm import tqdm\n",
    "path_start = '/dali/lgrandi/rucio/xnt_'\n",
    "import gc\n",
    "import pickle\n",
    "from utilix import xent_collection\n",
    "from glob import glob\n",
    "import sys\n",
    "sys.path.append('/home/yuanlq/software/xeda')\n",
    "from xeda import utilities"
   ]
  },
  {
   "cell_type": "code",
   "execution_count": null,
   "id": "f991a72e-c52b-4ba5-b8e7-203d8cbc20dc",
   "metadata": {},
   "outputs": [],
   "source": [
    "coll = xent_collection()\n",
    "sr0_right = 34731\n",
    "sr0_left  = 17918\n",
    "sr1_left  = 43039\n",
    "sr1_right = coll.count_documents({})"
   ]
  },
  {
   "cell_type": "code",
   "execution_count": null,
   "id": "9ac989af-c378-4a1e-9faa-6773a2db2979",
   "metadata": {},
   "outputs": [],
   "source": [
    "with open('/project2/lgrandi/xenonnt/reprocessing_runlist/global_v11/runlists_reprocessing_global_v11.pickle', 'rb') as f:\n",
    "    jingqiang = pickle.load(f)"
   ]
  },
  {
   "cell_type": "code",
   "execution_count": null,
   "id": "e41f33b0-5f03-46ed-b8dc-38b15c64a89c",
   "metadata": {},
   "outputs": [],
   "source": [
    "tpc_runlist = np.array([])\n",
    "nv_runlist = np.array([])\n",
    "\n",
    "for rnlist in jingqiang['runlists'].values():\n",
    "    tpc_runlist = np.concatenate((tpc_runlist, rnlist))\n",
    "for mode in ['th232', 'sr1_ybe', 'sr1_ambe', 'sr1_bkg']:\n",
    "    nv_runlist = np.concatenate((nv_runlist, jingqiang['runlists'][mode]))"
   ]
  },
  {
   "cell_type": "code",
   "execution_count": null,
   "id": "3f39eb9f-41c6-4a66-9a11-060bd59aae59",
   "metadata": {},
   "outputs": [],
   "source": [
    "rules_info = utilities.load_rules(datestr=20230710)"
   ]
  },
  {
   "cell_type": "code",
   "execution_count": null,
   "id": "8a2a822c-d4c5-4e06-b715-27e15d49000e",
   "metadata": {},
   "outputs": [],
   "source": [
    "peaklets = rules_info[rules_info['data_type']=='peaklets']\n",
    "merged_s2s = rules_info[rules_info['data_type']=='merged_s2s']\n",
    "lone_hits = rules_info[rules_info['data_type']=='lone_hits']\n",
    "hitlets_nv = rules_info[rules_info['data_type']=='hitlets_nv']\n",
    "del rules_info\n",
    "gc.collect()"
   ]
  },
  {
   "cell_type": "code",
   "execution_count": null,
   "id": "d646c02a-b3f3-4490-b49f-aaeba0414ae3",
   "metadata": {},
   "outputs": [],
   "source": [
    "peaklets = peaklets[peaklets['UC_DALI_USERDISK']]\n",
    "merged_s2s = merged_s2s[merged_s2s['UC_DALI_USERDISK']]\n",
    "lone_hits = lone_hits[lone_hits['UC_DALI_USERDISK']]\n",
    "hitlets_nv = hitlets_nv[hitlets_nv['UC_DALI_USERDISK']]"
   ]
  },
  {
   "cell_type": "code",
   "execution_count": null,
   "id": "d92f46ae-2c54-425e-992a-4f7ece802768",
   "metadata": {},
   "outputs": [],
   "source": [
    "peaklets_v11 = utilities.in_runlist(peaklets, tpc_runlist)\n",
    "merged_s2s_v11 = utilities.in_runlist(merged_s2s, tpc_runlist)\n",
    "lone_hits_v11 = utilities.in_runlist(lone_hits, tpc_runlist)\n",
    "hitlets_nv_v11 = utilities.in_runlist(hitlets_nv, nv_runlist)"
   ]
  },
  {
   "cell_type": "code",
   "execution_count": null,
   "id": "163b49e1-fae6-4fbf-9fc6-15c1757b30f0",
   "metadata": {},
   "outputs": [],
   "source": [
    "cum_sizes_tb_pkl = utilities.size_vs_runs(peaklets)\n",
    "cum_sizes_tb_hnv = utilities.size_vs_runs(hitlets_nv)\n",
    "cum_sizes_tb_ms2 = utilities.size_vs_runs(merged_s2s)\n",
    "cum_sizes_tb_lhs = utilities.size_vs_runs(lone_hits)"
   ]
  },
  {
   "cell_type": "code",
   "execution_count": null,
   "id": "c744a073-549e-4272-ad4d-710f3355067c",
   "metadata": {},
   "outputs": [],
   "source": [
    "cum_sizes_tb_pkl_v11 = utilities.size_vs_runs(peaklets_v11)\n",
    "cum_sizes_tb_hnv_v11 = utilities.size_vs_runs(hitlets_nv_v11)\n",
    "cum_sizes_tb_ms2_v11 = utilities.size_vs_runs(merged_s2s_v11)\n",
    "cum_sizes_tb_lhs_v11 = utilities.size_vs_runs(lone_hits_v11)"
   ]
  },
  {
   "cell_type": "code",
   "execution_count": null,
   "id": "23c35d87-9952-44dd-a44a-6c2cfc34c62a",
   "metadata": {},
   "outputs": [],
   "source": [
    "utilities.plot_cum_sizes_tb(title='Peaks on DaLI', x_bins=100, x_range=(0, sr1_right), dpi=100, \n",
    "                            peaklets=peaklets,\n",
    "                            merged_s2s=merged_s2s,\n",
    "                            lone_hits=lone_hits,\n",
    "                            hitlets_nv=hitlets_nv,\n",
    "                            peaklets_v11=peaklets_v11,\n",
    "                            merged_s2s_v11=merged_s2s_v11,\n",
    "                            lone_hits_v11=lone_hits_v11,\n",
    "                            hitlets_nv_v11=hitlets_nv_v11)"
   ]
  },
  {
   "cell_type": "code",
   "execution_count": null,
   "id": "21fc4ef4-1129-46a3-ac35-6cf00f0d2afc",
   "metadata": {},
   "outputs": [],
   "source": [
    "np.sum(cum_sizes_tb_pkl[-1]+cum_sizes_tb_ms2[-1]+cum_sizes_tb_hnv[-1]+cum_sizes_tb_lhs[-1])"
   ]
  },
  {
   "cell_type": "code",
   "execution_count": null,
   "id": "7b30a782-1b19-46da-b3d4-851ee08e795f",
   "metadata": {},
   "outputs": [],
   "source": [
    "np.sum(cum_sizes_tb_pkl_v11[-1]+cum_sizes_tb_ms2_v11[-1]+cum_sizes_tb_hnv_v11[-1]+cum_sizes_tb_lhs_v11[-1])"
   ]
  },
  {
   "cell_type": "markdown",
   "id": "5ec912f6-b74a-4a16-8bb2-37d82920605d",
   "metadata": {},
   "source": [
    "# Rules NOT in v11"
   ]
  },
  {
   "cell_type": "code",
   "execution_count": null,
   "id": "cebfc0fe-bc44-4022-a4e3-95daf80eb618",
   "metadata": {},
   "outputs": [],
   "source": [
    "peaklets_diff = np.setdiff1d(peaklets, peaklets_v11)\n",
    "merged_s2s_diff = np.setdiff1d(merged_s2s, merged_s2s_v11)\n",
    "lone_hits_diff = np.setdiff1d(lone_hits, lone_hits_v11)\n",
    "hitlets_nv_diff = np.setdiff1d(hitlets_nv, hitlets_nv_v11)"
   ]
  },
  {
   "cell_type": "code",
   "execution_count": null,
   "id": "9781cf16-8289-46f7-927e-d6cbaaf2123e",
   "metadata": {},
   "outputs": [],
   "source": [
    "cum_sizes_tb_pkl_diff = utilities.size_vs_runs(peaklets_diff)\n",
    "cum_sizes_tb_hnv_diff = utilities.size_vs_runs(hitlets_nv_diff)\n",
    "cum_sizes_tb_ms2_diff = utilities.size_vs_runs(merged_s2s_diff)\n",
    "cum_sizes_tb_lhs_diff = utilities.size_vs_runs(lone_hits_diff)"
   ]
  },
  {
   "cell_type": "code",
   "execution_count": null,
   "id": "0ebfadce-005b-4341-b6d4-458c3048556c",
   "metadata": {},
   "outputs": [],
   "source": [
    "utilities.plot_cum_sizes_tb(title='Peak-Level Data on DaLI but runs NOT in v11 processing list', \n",
    "                            x_bins=100, x_range=(0, sr1_right), dpi=100, \n",
    "                            peaklets_diff=peaklets_diff,\n",
    "                            merged_s2s_diff=merged_s2s_diff,\n",
    "                            lone_hits_diff=lone_hits_diff,\n",
    "                            hitlets_nv_diff=hitlets_nv_diff)"
   ]
  },
  {
   "cell_type": "code",
   "execution_count": null,
   "id": "dcf803f6-df20-4f4d-bcd0-6393db60c565",
   "metadata": {},
   "outputs": [],
   "source": [
    "np.sum(cum_sizes_tb_pkl_diff[-1]+cum_sizes_tb_ms2_diff[-1]+cum_sizes_tb_hnv_diff[-1]+cum_sizes_tb_lhs_diff[-1])"
   ]
  },
  {
   "cell_type": "markdown",
   "id": "fc558f0d-5763-4ae1-9949-a6d13ae69525",
   "metadata": {},
   "source": [
    "What are the run modes for them?"
   ]
  },
  {
   "cell_type": "code",
   "execution_count": null,
   "id": "9f0a5bc3-bff0-4f48-8c9d-8da5fb4a77c4",
   "metadata": {},
   "outputs": [],
   "source": [
    "peaklets_diff_unique_modes, peaklets_diff_sizes_tb = utilities.size_vs_mode(peaklets_diff, \n",
    "                                                                            title='peaklets Data on DaLI but runs NOT in v11 processing list')\n",
    "merged_s2s_unique_modes, merged_s2s_diff_sizes_tb = utilities.size_vs_mode(merged_s2s_diff, \n",
    "                                                                            title='merged_s2s Data on DaLI but runs NOT in v11 processing list')\n",
    "lone_hits_diff_unique_modes, lone_hits_diff_sizes_tb = utilities.size_vs_mode(lone_hits_diff, \n",
    "                                                                            title='lone_hits Data on DaLI but runs NOT in v11 processing list')\n",
    "hitlets_nv_unique_modes, hitlets_nv_diff_sizes_tb = utilities.size_vs_mode(hitlets_nv_diff, \n",
    "                                                                            title='hitlets_nv Data on DaLI but runs NOT in v11 processing list')"
   ]
  },
  {
   "cell_type": "markdown",
   "id": "9d7d3d91-5441-4674-b8b7-1a53378c918f",
   "metadata": {},
   "source": [
    "OK let's only check the sensible range"
   ]
  },
  {
   "cell_type": "code",
   "execution_count": null,
   "id": "df0ccfdb-f2dd-436f-aa99-36de30d52a70",
   "metadata": {},
   "outputs": [],
   "source": [
    "import importlib\n",
    "importlib.reload(utilities)"
   ]
  },
  {
   "cell_type": "code",
   "execution_count": null,
   "id": "2339f5c5-488f-470a-91c9-0261820c7aab",
   "metadata": {},
   "outputs": [],
   "source": [
    "peaklets_diff_unique_modes, peaklets_diff_sizes_tb = utilities.size_vs_mode(peaklets_diff[peaklets_diff['runid'].astype(int)>sr0_left], \n",
    "                                                                            title='Since SR0 peaklets Data on DaLI but runs NOT in v11 processing list')\n",
    "merged_s2s_unique_modes, merged_s2s_diff_sizes_tb = utilities.size_vs_mode(merged_s2s_diff[merged_s2s_diff['runid'].astype(int)>sr0_left], \n",
    "                                                                            title='Since SR0 merged_s2s Data on DaLI but runs NOT in v11 processing list')\n",
    "lone_hits_diff_unique_modes, lone_hits_diff_sizes_tb = utilities.size_vs_mode(lone_hits_diff, \n",
    "                                                                            title='All lone_hits Data on DaLI but runs NOT in v11 processing list')\n",
    "hitlets_nv_unique_modes, hitlets_nv_diff_sizes_tb = utilities.size_vs_mode(hitlets_nv_diff[hitlets_nv_diff['runid'].astype(int)>sr1_left], \n",
    "                                                                            title='Since SR1 hitlets_nv Data on DaLI but runs NOT in v11 processing list')"
   ]
  },
  {
   "cell_type": "markdown",
   "id": "1f331cd9-72d1-4a20-b19d-6fdaa5364839",
   "metadata": {},
   "source": [
    "# All SR1 Peaks in v11 TPC list"
   ]
  },
  {
   "cell_type": "code",
   "execution_count": null,
   "id": "b62624ae-eb6b-40a2-8423-7c9bbd30ded2",
   "metadata": {},
   "outputs": [],
   "source": [
    "rules_info = utilities.load_rules(datestr=20230710)\n",
    "peaklets = rules_info[rules_info['data_type']=='peaklets']\n",
    "merged_s2s = rules_info[rules_info['data_type']=='merged_s2s']\n",
    "lone_hits = rules_info[rules_info['data_type']=='lone_hits']\n",
    "hitlets_nv = rules_info[rules_info['data_type']=='hitlets_nv']\n",
    "del rules_info\n",
    "gc.collect()\n",
    "\n",
    "peaklets = peaklets[peaklets['UC_DALI_USERDISK']]\n",
    "merged_s2s = merged_s2s[merged_s2s['UC_DALI_USERDISK']]\n",
    "lone_hits = lone_hits[lone_hits['UC_DALI_USERDISK']]\n",
    "hitlets_nv = hitlets_nv[hitlets_nv['UC_DALI_USERDISK']]"
   ]
  },
  {
   "cell_type": "code",
   "execution_count": null,
   "id": "94c9d91c-c9d8-458b-a692-0faec1708dca",
   "metadata": {},
   "outputs": [],
   "source": [
    "peaklets_sr1_v11 = utilities.in_runlist(peaklets, tpc_runlist[tpc_runlist>sr1_left])\n",
    "merged_s2s_sr1_v11 = utilities.in_runlist(merged_s2s, tpc_runlist[tpc_runlist>sr1_left])\n",
    "lone_hits_sr1_v11 = utilities.in_runlist(lone_hits, tpc_runlist[tpc_runlist>sr1_left])"
   ]
  },
  {
   "cell_type": "code",
   "execution_count": null,
   "id": "48f49c82-aba0-4a89-87c4-424c1d1afd85",
   "metadata": {},
   "outputs": [],
   "source": [
    "peaklets_sr1_v11['size_gb'].sum()/1024"
   ]
  },
  {
   "cell_type": "code",
   "execution_count": null,
   "id": "76157ec7-ab0f-4aa8-99f6-d61096c56856",
   "metadata": {},
   "outputs": [],
   "source": [
    "merged_s2s_sr1_v11['size_gb'].sum()/1024"
   ]
  },
  {
   "cell_type": "code",
   "execution_count": null,
   "id": "d90846fb-e723-4030-89d8-aadf1a835c58",
   "metadata": {},
   "outputs": [],
   "source": [
    "lone_hits_sr1_v11['size_gb'].sum()/1024"
   ]
  },
  {
   "cell_type": "markdown",
   "id": "19b96f83-0a2e-4d60-9100-58da16ed1238",
   "metadata": {},
   "source": [
    "# Proposal for deletion"
   ]
  },
  {
   "cell_type": "code",
   "execution_count": null,
   "id": "3a5da391-523e-454d-bfa9-594e2349244e",
   "metadata": {},
   "outputs": [],
   "source": [
    "# SR1 hitlets_nv not in v11 reprocessing list\n",
    "sr1_dali_hitlets_nv_not_v11list = hitlets_nv_diff[hitlets_nv_diff['runid'].astype(int)>sr1_left]\n",
    "np.save('/project2/lgrandi/yuanlq/shared/dali_cleanup/20230710/sr1_dali_hitlets_nv_not_v11list.npy', \n",
    "        sr1_dali_hitlets_nv_not_v11list)\n",
    "\n",
    "# Since SR0 peaklets/merged_s2s not in v11 reprocessing list\n",
    "since_sr0_dali_peaklets_not_v11list = peaklets_diff[peaklets_diff['runid'].astype(int)>sr0_left]\n",
    "since_sr0_dali_merged_s2s_not_v11list = merged_s2s_diff[merged_s2s_diff['runid'].astype(int)>sr0_left]\n",
    "np.save('/project2/lgrandi/yuanlq/shared/dali_cleanup/20230710/since_sr0_dali_peaklets_not_v11list.npy', \n",
    "        since_sr0_dali_peaklets_not_v11list)\n",
    "np.save('/project2/lgrandi/yuanlq/shared/dali_cleanup/20230710/since_sr0_dali_merged_s2s_not_v11list.npy', \n",
    "        since_sr0_dali_merged_s2s_not_v11list)\n",
    "\n",
    "# All lonehits not in v11 reprocessing list\n",
    "all_lonehits_not_v11list = lone_hits_diff\n",
    "np.save('/project2/lgrandi/yuanlq/shared/dali_cleanup/20230710/all_lonehits_not_v11list.npy', \n",
    "        all_lonehits_not_v11list)"
   ]
  },
  {
   "cell_type": "code",
   "execution_count": null,
   "id": "ea3225d1-6089-4928-a25a-35f8bff99533",
   "metadata": {},
   "outputs": [],
   "source": [
    "np.sum(sr1_dali_hitlets_nv_not_v11list['size_gb'])/1024"
   ]
  },
  {
   "cell_type": "code",
   "execution_count": null,
   "id": "e7f143d7-6722-416f-a3b8-a10f22707397",
   "metadata": {},
   "outputs": [],
   "source": [
    "np.sum(since_sr0_dali_peaklets_not_v11list['size_gb'])/1024"
   ]
  },
  {
   "cell_type": "code",
   "execution_count": null,
   "id": "607166d4-0bc6-4c55-8c27-bb453ca18f62",
   "metadata": {},
   "outputs": [],
   "source": [
    "np.sum(since_sr0_dali_merged_s2s_not_v11list['size_gb'])/1024"
   ]
  },
  {
   "cell_type": "code",
   "execution_count": null,
   "id": "17e47df3-ed37-44e9-ab25-71e0413ff8da",
   "metadata": {},
   "outputs": [],
   "source": [
    "np.sum(all_lonehits_not_v11list['size_gb'])/1024"
   ]
  },
  {
   "cell_type": "code",
   "execution_count": null,
   "id": "7ff43b9b-3fd4-4103-8405-f30ed0cff369",
   "metadata": {},
   "outputs": [],
   "source": [
    "# SR1 peaklets in v11 processing list on dali\n",
    "np.save('/project2/lgrandi/yuanlq/shared/dali_cleanup/20230710/peaklets_sr1_v11.npy', peaklets_sr1_v11)\n",
    "\n",
    "# SR1 merged_s2s in v11 processing list on dali\n",
    "np.save('/project2/lgrandi/yuanlq/shared/dali_cleanup/20230710/merged_s2s_sr1_v11.npy', merged_s2s_sr1_v11)\n",
    "\n",
    "# SR1 lone_hits in v11 processing list on dali\n",
    "np.save('/project2/lgrandi/yuanlq/shared/dali_cleanup/20230710/lone_hits_sr1_v11.npy', lone_hits_sr1_v11)"
   ]
  },
  {
   "cell_type": "code",
   "execution_count": null,
   "id": "8aea4156-7ed1-49a6-88c7-69cd9ae3be13",
   "metadata": {},
   "outputs": [],
   "source": []
  }
 ],
 "metadata": {
  "kernelspec": {
   "display_name": "Python 3 (ipykernel)",
   "language": "python",
   "name": "python3"
  },
  "language_info": {
   "codemirror_mode": {
    "name": "ipython",
    "version": 3
   },
   "file_extension": ".py",
   "mimetype": "text/x-python",
   "name": "python",
   "nbconvert_exporter": "python",
   "pygments_lexer": "ipython3",
   "version": "3.9.17"
  }
 },
 "nbformat": 4,
 "nbformat_minor": 5
}
