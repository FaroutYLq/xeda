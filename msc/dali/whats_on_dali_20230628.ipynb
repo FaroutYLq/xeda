{
 "cells": [
  {
   "cell_type": "code",
   "execution_count": null,
   "id": "f2d260ea-e2cf-4892-a689-b6a07f422c29",
   "metadata": {},
   "outputs": [],
   "source": [
    "import pandas as pd\n",
    "import matplotlib.pyplot as plt\n",
    "import utilix\n",
    "import numpy as np\n",
    "from tqdm import tqdm\n",
    "import os\n",
    "path_start = '/dali/lgrandi/rucio/xnt_'"
   ]
  },
  {
   "cell_type": "code",
   "execution_count": null,
   "id": "8c4507f4-33b9-44b7-8c93-873441a37bcd",
   "metadata": {},
   "outputs": [],
   "source": [
    "sr0_right = 34731\n",
    "sr0_left  = 17918\n",
    "sr1_left  = 43039\n",
    "sr1_right = 53000"
   ]
  },
  {
   "cell_type": "code",
   "execution_count": null,
   "id": "fb7e691a-5cb2-4aeb-ae91-30ae570e8d82",
   "metadata": {},
   "outputs": [],
   "source": [
    "def find_with_mode(rules, runs, mode):\n",
    "    is_mode = np.zeros(len(rules), np.bool)\n",
    "    for i,r in enumerate(rules):\n",
    "        if int(r['runid'])<50126:\n",
    "            if runs[int(r['runid'])]['mode'] == mode:\n",
    "                is_mode[i] = True\n",
    "    print(np.sum(is_mode))\n",
    "    return rules[is_mode]\n",
    "\n",
    "def size_vs_runs(rules, runid_min=0, runid_max=50200, nbins=100):\n",
    "    runids = rules['runid'].astype(np.int32)\n",
    "    bins_bound = np.linspace(runid_min, runid_max, nbins+1)\n",
    "    sizes_tb = np.zeros(nbins)\n",
    "    for b in range(nbins):\n",
    "        selected_mask = runids>=bins_bound[b]\n",
    "        selected_mask &= runids<=bins_bound[b+1]\n",
    "        rules_selected = rules[selected_mask]\n",
    "        if len(rules_selected):\n",
    "            sizes_tb[b] = np.sum(rules_selected['size_gb']/1024)\n",
    "    \n",
    "    cum_sizes_tb = np.cumsum(sizes_tb)\n",
    "    return cum_sizes_tb\n",
    "\n",
    "def find_with_tags(rules, runs, tags):\n",
    "    tagged = np.zeros(len(rules), np.bool)\n",
    "    for i,r in enumerate(rules):\n",
    "        for t in tags:\n",
    "            if runs[int(r['runid'])][t]:\n",
    "                tagged[i] = True\n",
    "    print(np.sum(tagged))\n",
    "    return rules[tagged]\n",
    "\n",
    "def filter_out_rad(rules, runs):\n",
    "    is_rad = np.zeros(len(rules), np.bool)\n",
    "    for i,r in enumerate(rules):\n",
    "        if runs[int(r['runid'])]['RAD_commissioning']:\n",
    "            is_rad[i] = True\n",
    "    return rules[~is_rad]"
   ]
  },
  {
   "cell_type": "code",
   "execution_count": null,
   "id": "e945ec35-3e60-46c7-837f-6be3ba7f0fab",
   "metadata": {
    "scrolled": true
   },
   "outputs": [],
   "source": [
    "import pymongo\n",
    "from utilix import xent_collection\n",
    "coll = xent_collection()\n",
    "\n",
    "runs_dtype = np.dtype([('number', np.int32), \n",
    "                       ('mode', 'O'),\n",
    "                       ('bad', np.bool),\n",
    "                       ('messy', np.bool),\n",
    "                       ('hot_spot', np.bool),\n",
    "                       ('ramp_down', np.bool),\n",
    "                       ('ramp_up', np.bool),\n",
    "                       ('pmt_trip', np.bool),\n",
    "                       ('rn220_fast_alphas', np.bool),\n",
    "                       ('after_rn220', np.bool),\n",
    "                       ('abandon', np.bool),\n",
    "                       ('RAD_commissioning', np.bool)])\n",
    "runs = np.zeros(sr1_right, dtype = runs_dtype)\n",
    "\n",
    "for i in tqdm(range(sr1_right)):\n",
    "    query = {'number': i}\n",
    "    doc = coll.find_one(query)\n",
    "    runs[i]['number'] = i\n",
    "    runs[i]['mode'] = doc['mode']\n",
    "    try:\n",
    "        tags = doc['tags']\n",
    "        for t in tags:\n",
    "            if t['name'] == 'bad':\n",
    "                runs[i]['bad'] = True\n",
    "            elif t['name'] == 'messy':\n",
    "                runs[i]['messy'] = True\n",
    "            elif t['name'] == 'hot_spot':\n",
    "                runs[i]['hot_spot'] = True\n",
    "            elif t['name'] == 'ramp_down':\n",
    "                runs[i]['ramp_down'] = True\n",
    "            elif t['name'] == 'ramp_up':\n",
    "                runs[i]['ramp_up'] = True            \n",
    "            elif t['name'] == 'pmt_trip':\n",
    "                runs[i]['pmt_trip'] = True\n",
    "            elif t['name'] == 'rn220_fast_alphas':\n",
    "                runs[i]['rn220_fast_alphas'] = True\n",
    "            elif t['name'] == 'after_rn220':\n",
    "                runs[i]['after_rn220'] = True\n",
    "            elif t['name'] == 'abandon':\n",
    "                runs[i]['abandon'] = True\n",
    "            elif t['name'] == 'RAD_commissioning':\n",
    "                runs[i]['RAD_commissioning'] = True\n",
    "    except:\n",
    "        pass"
   ]
  },
  {
   "cell_type": "code",
   "execution_count": null,
   "id": "1df79a69-6aca-4b32-9102-ccccba751c82",
   "metadata": {},
   "outputs": [],
   "source": [
    "for i in range(20):\n",
    "    if i == 0:\n",
    "        rules_info = np.load('/project2/lgrandi/yuanlq/shared/dali_cleanup/rucio_20230628_all_rules0.npy', \n",
    "                             allow_pickle=True)\n",
    "    else:\n",
    "        new = np.load('/project2/lgrandi/yuanlq/shared/dali_cleanup/rucio_20230628_all_rules%s.npy'%(i), \n",
    "                      allow_pickle=True)\n",
    "        rules_info = np.concatenate((rules_info, new))"
   ]
  },
  {
   "cell_type": "code",
   "execution_count": null,
   "id": "4224b9e3-abfa-4961-998b-a8b26b034830",
   "metadata": {},
   "outputs": [],
   "source": [
    "rules_info = rules_info[rules_info['UC_DALI_USERDISK']]"
   ]
  },
  {
   "cell_type": "code",
   "execution_count": null,
   "id": "33cbc9b4-609d-4fb8-89bd-c2c0b41a8ec2",
   "metadata": {},
   "outputs": [],
   "source": [
    "rules_info = rules_info[rules_info['runid'].astype(int)<sr1_right]\n",
    "rules_info_norad = filter_out_rad(rules=rules_info, runs=runs)"
   ]
  },
  {
   "cell_type": "code",
   "execution_count": null,
   "id": "1f8e47b4-4d3d-499a-bb20-84284cf0075b",
   "metadata": {},
   "outputs": [],
   "source": [
    "size_all = rules_info['size_gb'].sum()\n",
    "print('All rucio data on dali: %sTB'%(int(size_all/1024)))"
   ]
  },
  {
   "cell_type": "code",
   "execution_count": null,
   "id": "1debc089-ede5-432f-81ae-9f70ac305dcf",
   "metadata": {},
   "outputs": [],
   "source": [
    "size_peaklets = rules_info['size_gb'][rules_info['data_type']=='peaklets'].sum()\n",
    "print('All peaklets on dali: %sTB'%(int(size_peaklets/1024)))"
   ]
  },
  {
   "cell_type": "code",
   "execution_count": null,
   "id": "9084b650-1787-444f-a5ab-078b2e152e77",
   "metadata": {},
   "outputs": [],
   "source": [
    "size_hitlets_nv = rules_info['size_gb'][rules_info['data_type']=='hitlets_nv'].sum()\n",
    "print('All hitlets_nv on dali: %sTB'%(int(size_hitlets_nv/1024)))"
   ]
  },
  {
   "cell_type": "code",
   "execution_count": null,
   "id": "44d0e4d4-7646-40c5-8372-7dd655976b07",
   "metadata": {},
   "outputs": [],
   "source": [
    "size_merged_s2s = rules_info['size_gb'][rules_info['data_type']=='merged_s2s'].sum()\n",
    "print('All merged_s2s on dali: %sTB'%(int(size_merged_s2s/1024)))"
   ]
  },
  {
   "cell_type": "code",
   "execution_count": null,
   "id": "fcca4125-c6f0-4e18-8ff8-97af93f81205",
   "metadata": {},
   "outputs": [],
   "source": [
    "all_dtypes = np.unique(rules_info['data_type'])\n",
    "names = []\n",
    "sizes_gb = []\n",
    "for dt in all_dtypes:\n",
    "    selected = rules_info[rules_info['data_type']==dt]\n",
    "    names.append(dt)\n",
    "    sizes_gb.append(selected['size_gb'].sum())\n",
    "names = np.array(names)\n",
    "sizes_gb = np.array(sizes_gb)\n",
    "argsort = sizes_gb.argsort()\n",
    "names_sort = names[argsort]\n",
    "sizes_gb_sort = sizes_gb[argsort]\n",
    "for i in range(len(names)):\n",
    "    if int(sizes_gb_sort[i]/1024) >= 1:\n",
    "        print(names_sort[i], int(sizes_gb_sort[i]/1024), 'TB')"
   ]
  },
  {
   "cell_type": "code",
   "execution_count": null,
   "id": "b809a899-d858-42cc-9f50-b28c80798eb7",
   "metadata": {},
   "outputs": [],
   "source": [
    "cum_sizes_tb_pkl = size_vs_runs(rules_info_norad[rules_info_norad['data_type']=='peaklets'])\n",
    "cum_sizes_tb_hnv = size_vs_runs(rules_info_norad[rules_info_norad['data_type']=='hitlets_nv'])\n",
    "cum_sizes_tb_ms2 = size_vs_runs(rules_info_norad[rules_info_norad['data_type']=='merged_s2s'])"
   ]
  },
  {
   "cell_type": "code",
   "execution_count": null,
   "id": "adb6f384-b9e0-406e-bf49-caaa2b99e80d",
   "metadata": {},
   "outputs": [],
   "source": [
    "plt.figure(dpi=100)\n",
    "plt.plot(np.linspace(0, 50200, 100), cum_sizes_tb_pkl, label='peaklets')\n",
    "plt.plot(np.linspace(0, 50200, 100), cum_sizes_tb_hnv, label='hitlets_nv')\n",
    "plt.plot(np.linspace(0, 50200, 100), cum_sizes_tb_ms2, label='merged_s2s')\n",
    "\n",
    "plt.xlabel('RunID')\n",
    "plt.title('DaLI Top 3 Datatype')\n",
    "plt.ylabel('Size [TB]')\n",
    "plt.axvspan(sr0_left, sr0_right, alpha=0.3, color='k', label='SR0')\n",
    "plt.axvspan(sr1_left, sr1_right, alpha=0.3, color='r', label='SR1')\n",
    "#plt.yscale('log')\n",
    "#plt.gca().set_ylim(top=80)\n",
    "plt.legend()"
   ]
  },
  {
   "cell_type": "code",
   "execution_count": null,
   "id": "abbd950a-97df-481f-8749-a83ba0217539",
   "metadata": {},
   "outputs": [],
   "source": [
    "import cutax\n",
    "st = cutax.contexts.xenonnt_online()\n",
    "all_runs = st.select_runs()\n",
    "modes = set(all_runs[\"mode\"])\n",
    "modes_list = list(modes)"
   ]
  },
  {
   "cell_type": "code",
   "execution_count": null,
   "id": "8d043686-e570-4d70-8407-a8c4d9c76c32",
   "metadata": {},
   "outputs": [],
   "source": [
    "total_pkl = 0\n",
    "\n",
    "size_pkl = []\n",
    "\n",
    "for m in modes_list:\n",
    "    rules_info_mode = find_with_mode(rules=rules_info_norad, runs=runs, mode=m)\n",
    "    cum_sizes_tb_pkl_mode = size_vs_runs(rules_info_mode[(rules_info_mode['data_type']=='peaklets')])\n",
    "        \n",
    "    total_pkl += cum_sizes_tb_pkl_mode[-1]\n",
    "    \n",
    "    size_pkl.append(int(cum_sizes_tb_pkl_mode[-1]))\n",
    "    \n",
    "    if cum_sizes_tb_pkl_mode[-1] > 0.2: \n",
    "    \n",
    "        plt.figure(dpi=100)\n",
    "        plt.plot(np.linspace(0, sr1_right, 100), cum_sizes_tb_pkl_mode, label='peaklets')\n",
    "        plt.xlabel('RunID')\n",
    "        plt.title('Mode %s'%(m))\n",
    "        plt.ylabel('Size [TB]')\n",
    "        plt.axvspan(sr0_left, sr0_right, alpha=0.3, color='k', label='SR0')\n",
    "        plt.axvspan(sr1_left, sr1_right, alpha=0.3, color='r', label='SR1')\n",
    "        #plt.yscale('log')\n",
    "        #plt.gca().set_ylim(bottom=1)\n",
    "        plt.legend()\n",
    "        plt.savefig('osg_straxdata_mode_%s'%(m))\n",
    "        plt.show()\n",
    "\n",
    "size_pkl = np.array(size_pkl)   \n",
    "\n",
    "modes_list = np.array(modes_list)\n",
    "\n",
    "for i in range(len(modes_list)):\n",
    "    if size_pkl[size_pkl.argsort()][i] > 0.2:\n",
    "        print(modes_list[size_pkl.argsort()][i], size_pkl[size_pkl.argsort()][i], 'TB')"
   ]
  },
  {
   "cell_type": "code",
   "execution_count": null,
   "id": "8e3c3bcd-e840-4df7-804b-9a28c0b12f63",
   "metadata": {},
   "outputs": [],
   "source": [
    "total_ms2 = 0\n",
    "\n",
    "size_ms2 = []\n",
    "\n",
    "for m in modes_list:\n",
    "    rules_info_mode = find_with_mode(rules=rules_info_norad, runs=runs, mode=m)\n",
    "    cum_sizes_tb_ms2_mode = size_vs_runs(rules_info_mode[(rules_info_mode['data_type']=='merged_s2s')])\n",
    "        \n",
    "    total_ms2 += cum_sizes_tb_ms2_mode[-1]\n",
    "    \n",
    "    size_ms2.append(int(cum_sizes_tb_ms2_mode[-1]))\n",
    "    \n",
    "    if cum_sizes_tb_ms2_mode[-1] > 0.2: \n",
    "    \n",
    "        plt.figure(dpi=100)\n",
    "        plt.plot(np.linspace(0, 50200, 100), cum_sizes_tb_ms2_mode, label='merged_s2s')\n",
    "        plt.xlabel('RunID')\n",
    "        plt.title('Mode %s'%(m))\n",
    "        plt.ylabel('Size [TB]')\n",
    "        plt.axvspan(sr0_left, sr0_right, alpha=0.3, color='k', label='SR0')\n",
    "        plt.axvspan(sr1_left, sr1_right, alpha=0.3, color='r', label='SR1')\n",
    "        #plt.yscale('log')\n",
    "        #plt.gca().set_ylim(bottom=1)\n",
    "        plt.legend()\n",
    "        plt.savefig('osg_straxdata_mode_%s'%(m))\n",
    "        plt.show()\n",
    "\n",
    "size_ms2 = np.array(size_ms2)   \n",
    "\n",
    "modes_list = np.array(modes_list)\n",
    "\n",
    "for i in range(len(modes_list)):\n",
    "    if size_ms2[size_ms2.argsort()][i] > 0.2:\n",
    "        print(modes_list[size_ms2.argsort()][i], size_ms2[size_ms2.argsort()][i], 'TB')"
   ]
  },
  {
   "cell_type": "code",
   "execution_count": null,
   "id": "b30b9a9d-a328-440d-8f4f-7ac3e36bca85",
   "metadata": {},
   "outputs": [],
   "source": [
    "total_rrnv = 0\n",
    "\n",
    "size_rrnv = []\n",
    "\n",
    "for m in modes_list:\n",
    "    rules_info_mode = find_with_mode(rules=rules_info_norad, runs=runs, mode=m)\n",
    "    cum_sizes_tb_rrnv_mode = size_vs_runs(rules_info_mode[(rules_info_mode['data_type']=='hitlets_nv')])\n",
    "        \n",
    "    total_rrnv += cum_sizes_tb_rrnv_mode[-1]\n",
    "    \n",
    "    size_rrnv.append(int(cum_sizes_tb_rrnv_mode[-1]))\n",
    "    \n",
    "    if cum_sizes_tb_rrnv_mode[-1] > 0.2: \n",
    "    \n",
    "        plt.figure(dpi=100)\n",
    "        plt.plot(np.linspace(0, 50200, 100), cum_sizes_tb_rrnv_mode, label='hitlets_nv')\n",
    "        plt.xlabel('RunID')\n",
    "        plt.title('Mode %s'%(m))\n",
    "        plt.ylabel('Size [TB]')\n",
    "        plt.axvspan(sr0_left, sr0_right, alpha=0.3, color='k', label='SR0')\n",
    "        plt.axvspan(sr1_left, sr1_right, alpha=0.3, color='r', label='SR1')\n",
    "        #plt.yscale('log')\n",
    "        #plt.gca().set_ylim(bottom=1)\n",
    "        plt.legend()\n",
    "        plt.savefig('osg_straxdata_mode_%s'%(m))\n",
    "        plt.show()\n",
    "\n",
    "size_rrnv = np.array(size_rrnv)   \n",
    "\n",
    "modes_list = np.array(modes_list)\n",
    "\n",
    "for i in range(len(modes_list)):\n",
    "    if size_rrnv[size_rrnv.argsort()][i] > 0.2:\n",
    "        print(modes_list[size_rrnv.argsort()][i], size_rrnv[size_rrnv.argsort()][i], 'TB')"
   ]
  },
  {
   "cell_type": "markdown",
   "id": "5e303e02-67fd-4110-b8d1-bbd8ec6b2e1c",
   "metadata": {},
   "source": [
    "## Low quality"
   ]
  },
  {
   "cell_type": "code",
   "execution_count": null,
   "id": "a4eb74fc-50f7-4de7-805a-c00b7137b61c",
   "metadata": {},
   "outputs": [],
   "source": [
    "rules_info_lowq = find_with_tags(rules=rules_info, runs=runs, tags=['bad', 'messy', 'abandon'])\n",
    "rules_info_lowq = rules_info_lowq[(rules_info_lowq['data_type']=='peaklets')|\n",
    "                                    (rules_info_lowq['data_type']=='merged_s2s')|\n",
    "                                    (rules_info_lowq['data_type']=='hitlets_nv')]\n",
    "np.sum(rules_info_lowq['size_gb'])"
   ]
  },
  {
   "cell_type": "code",
   "execution_count": null,
   "id": "105618a7-9844-44f8-9a09-bf25cf5adf1f",
   "metadata": {},
   "outputs": [],
   "source": [
    "np.save('/home/yuanlq/software/xeda/msc/dali/delete_dali_20230628/peaks_lowq', rules_info_lowq)"
   ]
  },
  {
   "cell_type": "code",
   "execution_count": null,
   "id": "00f729b9-3f6f-49f5-8f0b-c1ce6c8da0cc",
   "metadata": {},
   "outputs": [],
   "source": [
    "cum_sizes_tb_pkl = size_vs_runs(rules_info_norad[rules_info_norad['data_type']=='peaklets'])"
   ]
  },
  {
   "cell_type": "markdown",
   "id": "00cfd763-0c93-4e33-8db7-b64e1d179d4e",
   "metadata": {},
   "source": [
    "## SR1 Kr83m"
   ]
  },
  {
   "cell_type": "code",
   "execution_count": null,
   "id": "fc393c4b-ea90-4648-8d11-1720ce6b886a",
   "metadata": {},
   "outputs": [],
   "source": [
    "sr1_kr83m = find_with_mode(rules=rules_info_norad, runs=runs, mode='tpc_kr83m')"
   ]
  },
  {
   "cell_type": "code",
   "execution_count": null,
   "id": "c30f1e94-a75b-4ac1-ba12-31c2c38e3532",
   "metadata": {},
   "outputs": [],
   "source": [
    "sr1_kr83m = sr1_kr83m[sr1_kr83m['runid'].astype(int)>sr1_left]"
   ]
  },
  {
   "cell_type": "code",
   "execution_count": null,
   "id": "b47f516a-5b81-49d4-b6d6-29e50a511f81",
   "metadata": {},
   "outputs": [],
   "source": [
    "sr1_kr83m = sr1_kr83m[(sr1_kr83m['data_type']=='peaklets')|\n",
    "                        (sr1_kr83m['data_type']=='merged_s2s')]"
   ]
  },
  {
   "cell_type": "code",
   "execution_count": null,
   "id": "b2e0ed37-c970-4cdf-ae9a-c62bd92ae27a",
   "metadata": {},
   "outputs": [],
   "source": [
    "np.sum(sr1_kr83m['size_gb'])"
   ]
  },
  {
   "cell_type": "code",
   "execution_count": null,
   "id": "fb4c28e2-8a21-4ff9-be85-83e250b50f30",
   "metadata": {},
   "outputs": [],
   "source": [
    "np.save('/home/yuanlq/software/xeda/msc/dali/delete_dali_20230628/peaks_sr1_kr83m.npy', sr1_kr83m)"
   ]
  },
  {
   "cell_type": "markdown",
   "id": "8c812504-5706-4521-8044-7b483b87e17b",
   "metadata": {},
   "source": [
    "## SR1 Rn220"
   ]
  },
  {
   "cell_type": "code",
   "execution_count": null,
   "id": "f4d4656d-d97c-4542-b066-417450ce6f9e",
   "metadata": {},
   "outputs": [],
   "source": [
    "sr1_radon = find_with_mode(rules=rules_info_norad, runs=runs, mode='tpc_radon')\n",
    "sr1_radon = sr1_radon[sr1_radon['runid'].astype(int)>sr1_left]\n",
    "sr1_radon = sr1_radon[(sr1_radon['data_type']=='peaklets')|\n",
    "                        (sr1_radon['data_type']=='merged_s2s')]"
   ]
  },
  {
   "cell_type": "code",
   "execution_count": null,
   "id": "84ea3e8f-3bd7-496f-8e64-50b36ac552a6",
   "metadata": {},
   "outputs": [],
   "source": [
    "np.sum(sr1_radon['size_gb'])"
   ]
  },
  {
   "cell_type": "code",
   "execution_count": null,
   "id": "95662554-9956-41f0-9ab0-cc4da7a746f9",
   "metadata": {},
   "outputs": [],
   "source": [
    "sr1_radon_hev = find_with_mode(rules=rules_info_norad, runs=runs, mode='tpc_radon_hev')\n",
    "sr1_radon_hev = sr1_radon_hev[sr1_radon_hev['runid'].astype(int)>sr1_left]\n",
    "sr1_radon_hev = sr1_radon_hev[(sr1_radon_hev['data_type']=='peaklets')|\n",
    "                        (sr1_radon_hev['data_type']=='merged_s2s')]"
   ]
  },
  {
   "cell_type": "code",
   "execution_count": null,
   "id": "2f13d54b-0551-48d6-9272-a19ed8a9d3a5",
   "metadata": {},
   "outputs": [],
   "source": [
    "np.sum(sr1_radon_hev['size_gb'])"
   ]
  },
  {
   "cell_type": "code",
   "execution_count": null,
   "id": "878eb339-b587-4013-b1df-381b49a7855c",
   "metadata": {},
   "outputs": [],
   "source": [
    "sr1_rn220 = np.concatenate((sr1_radon_hev, sr1_radon))\n",
    "np.save('/home/yuanlq/software/xeda/msc/dali/delete_dali_20230628/peaks_sr1_rn220.npy', sr1_rn220)"
   ]
  },
  {
   "cell_type": "code",
   "execution_count": null,
   "id": "28d61ff0-fa3e-454b-be64-54fa25f48e54",
   "metadata": {},
   "outputs": [],
   "source": [
    "np.sum(sr1_rn220['size_gb'])"
   ]
  },
  {
   "cell_type": "markdown",
   "id": "0d66c75e-6fcc-49b9-8cae-4f0edb55bb0b",
   "metadata": {},
   "source": [
    "## SR1 YBe"
   ]
  },
  {
   "cell_type": "code",
   "execution_count": null,
   "id": "a5fc8bf1-0882-4113-8b18-2ec4cb83dc2a",
   "metadata": {},
   "outputs": [],
   "source": [
    "sr1_tpc_ybe = find_with_mode(rules=rules_info_norad, runs=runs, mode='ybe_tpc')\n",
    "sr1_tpc_ybe = sr1_tpc_ybe[sr1_tpc_ybe['runid'].astype(int)>sr1_left]\n",
    "sr1_tpc_ybe = sr1_tpc_ybe[(sr1_tpc_ybe['data_type']=='peaklets')|\n",
    "                        (sr1_tpc_ybe['data_type']=='merged_s2s')|\n",
    "                        (sr1_tpc_ybe['data_type']=='hitlets_nv')]\n",
    "np.sum(sr1_tpc_ybe['size_gb'])"
   ]
  },
  {
   "cell_type": "code",
   "execution_count": null,
   "id": "7eef758a-25c5-4917-a190-948a04441991",
   "metadata": {},
   "outputs": [],
   "source": [
    "sr1_ybe_linked = find_with_mode(rules=rules_info_norad, runs=runs, mode='ybe_linked')\n",
    "sr1_ybe_linked = sr1_ybe_linked[sr1_ybe_linked['runid'].astype(int)>sr1_left]\n",
    "sr1_ybe_linked = sr1_ybe_linked[(sr1_ybe_linked['data_type']=='peaklets')|\n",
    "                        (sr1_ybe_linked['data_type']=='merged_s2s')|\n",
    "                        (sr1_ybe_linked['data_type']=='hitlets_nv')]\n",
    "np.sum(sr1_ybe_linked['size_gb'])"
   ]
  },
  {
   "cell_type": "code",
   "execution_count": null,
   "id": "b8c334cc-a66f-469e-84d8-847807c1bc05",
   "metadata": {},
   "outputs": [],
   "source": [
    "sr1_ybe = np.concatenate((sr1_ybe_linked, sr1_tpc_ybe))\n",
    "np.save('/home/yuanlq/software/xeda/msc/dali/delete_dali_20230628/peaks_sr1_ybe.npy', sr1_ybe)"
   ]
  },
  {
   "cell_type": "markdown",
   "id": "af358515-8bb4-4021-8629-732f8766e27c",
   "metadata": {},
   "source": [
    "# To delete"
   ]
  },
  {
   "cell_type": "code",
   "execution_count": null,
   "id": "8e361ecd-d38d-44ef-a025-de26a3c84baa",
   "metadata": {},
   "outputs": [],
   "source": [
    "rules_info_lowq = np.load('/home/yuanlq/software/xeda/msc/dali/delete_dali_20230628/peaks_lowq.npy', allow_pickle=True)\n",
    "sr1_ybe = np.load('/home/yuanlq/software/xeda/msc/dali/delete_dali_20230628/peaks_sr1_ybe.npy', allow_pickle=True)\n",
    "sr1_rn220 = np.load('/home/yuanlq/software/xeda/msc/dali/delete_dali_20230628/peaks_sr1_rn220.npy', allow_pickle=True)\n",
    "sr1_kr83m = np.load('/home/yuanlq/software/xeda/msc/dali/delete_dali_20230628/peaks_sr1_kr83m.npy', allow_pickle=True)"
   ]
  },
  {
   "cell_type": "code",
   "execution_count": null,
   "id": "6f65eea3-1b66-4939-b075-ecb1e8b46272",
   "metadata": {},
   "outputs": [],
   "source": [
    "overall = np.concatenate((rules_info_lowq, sr1_ybe, sr1_rn220, sr1_kr83m))"
   ]
  },
  {
   "cell_type": "code",
   "execution_count": null,
   "id": "211bc2a0-84a9-44d0-ac48-65c8aa4900bb",
   "metadata": {},
   "outputs": [],
   "source": [
    "overall['size_gb'].sum()/1024"
   ]
  },
  {
   "cell_type": "code",
   "execution_count": null,
   "id": "f97e76e8-2db3-4173-bca6-41bd9ff7c81d",
   "metadata": {},
   "outputs": [],
   "source": [
    "np.save('/home/yuanlq/software/xeda/msc/dali/delete_dali_20230628/dali_20230628.npy', overall)"
   ]
  },
  {
   "cell_type": "code",
   "execution_count": null,
   "id": "6e0c72e1-c539-47b7-8bdc-8ced9216ead1",
   "metadata": {},
   "outputs": [],
   "source": [
    "overall = np.unique(overall)"
   ]
  },
  {
   "cell_type": "code",
   "execution_count": null,
   "id": "62b3aed5-193c-400a-b3dc-1ff480e30d80",
   "metadata": {},
   "outputs": [],
   "source": [
    "len(np.unique(overall['runid']))"
   ]
  },
  {
   "cell_type": "code",
   "execution_count": null,
   "id": "ed48403c-0f97-4544-b6bc-6fa9e2f84b25",
   "metadata": {},
   "outputs": [],
   "source": [
    "len(np.unique(sr1_ybe['runid']))"
   ]
  },
  {
   "cell_type": "code",
   "execution_count": null,
   "id": "6ed66a8b-2cc7-4499-b0a3-ff5df5fb7266",
   "metadata": {},
   "outputs": [],
   "source": [
    "len(np.unique(sr1_rn220['runid']))"
   ]
  },
  {
   "cell_type": "code",
   "execution_count": null,
   "id": "1775a69a-84f7-4b0f-8965-16035cb06e54",
   "metadata": {},
   "outputs": [],
   "source": [
    "len(np.unique(sr1_kr83m['runid']))"
   ]
  },
  {
   "cell_type": "code",
   "execution_count": null,
   "id": "e189aeef-70bf-44ec-bdd6-14e0d4857695",
   "metadata": {},
   "outputs": [],
   "source": [
    "len(np.unique(overall[overall['runid']]['runid']))"
   ]
  },
  {
   "cell_type": "code",
   "execution_count": null,
   "id": "424724b8-2fc8-4bca-aa28-7fad1946f9dc",
   "metadata": {},
   "outputs": [],
   "source": [
    "plt.hist(np.unique(overall['runid']).astype(int), bins=100)\n",
    "plt.xlabel('runid')\n",
    "plt.ylabel('counts')"
   ]
  },
  {
   "cell_type": "code",
   "execution_count": null,
   "id": "20f59c23-2083-41c3-825f-b90aea32decf",
   "metadata": {},
   "outputs": [],
   "source": []
  }
 ],
 "metadata": {
  "kernelspec": {
   "display_name": "Python 3 (ipykernel)",
   "language": "python",
   "name": "python3"
  },
  "language_info": {
   "codemirror_mode": {
    "name": "ipython",
    "version": 3
   },
   "file_extension": ".py",
   "mimetype": "text/x-python",
   "name": "python",
   "nbconvert_exporter": "python",
   "pygments_lexer": "ipython3",
   "version": "3.9.16"
  }
 },
 "nbformat": 4,
 "nbformat_minor": 5
}
